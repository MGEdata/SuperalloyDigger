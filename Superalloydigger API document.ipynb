{
 "cells": [
  {
   "cell_type": "markdown",
   "metadata": {},
   "source": [
    "# SuperalloyDigger API Document"
   ]
  },
  {
   "cell_type": "markdown",
   "metadata": {},
   "source": [
    "We provide users with a variety of scenarios to test and run, including corpus preprocessing, sentence classification, named entity recognition, relation extraction, table parsing, dependency parsing, and automated full-pipeline of the above steps. We also provide testing corpus used to run these demos on GitHub repo. The following codes will show you how to use SuperalloyDigger for several common situations. Please see below for details."
   ]
  },
  {
   "cell_type": "markdown",
   "metadata": {},
   "source": [
    "Before running the codes, please use 'pip install -r requirements.txt' to prepare the basic environments."
   ]
  },
  {
   "cell_type": "markdown",
   "metadata": {},
   "source": [
    "## 0. Article download"
   ]
  },
  {
   "cell_type": "code",
   "execution_count": 1,
   "metadata": {},
   "outputs": [],
   "source": [
    "import os\n",
    "from Elsevier_articles_archive.main import File_Download"
   ]
  },
  {
   "cell_type": "markdown",
   "metadata": {},
   "source": [
    "Downloads for XML and TXT format files "
   ]
  },
  {
   "cell_type": "code",
   "execution_count": 4,
   "metadata": {},
   "outputs": [
    {
     "name": "stderr",
     "output_type": "stream",
     "text": [
      "C:\\Users\\win\\AppData\\Roaming\\Python\\Python38\\site-packages\\urllib3\\connectionpool.py:1045: InsecureRequestWarning: Unverified HTTPS request is being made to host 'api.elsevier.com'. Adding certificate verification is strongly advised. See: https://urllib3.readthedocs.io/en/1.26.x/advanced-usage.html#ssl-warnings\n",
      "  warnings.warn(\n"
     ]
    },
    {
     "name": "stdout",
     "output_type": "stream",
     "text": [
      "10.1016/j.msea.2014.09.074\n"
     ]
    }
   ],
   "source": [
    "PATH = os.getcwd() # 获取当前文件的绝对路径\n",
    "dois = [\n",
    "    \"10.1016/j.msea.2014.09.074\",\n",
    "]\n",
    "api_path = os.path.join(PATH,\"related_files/apikeys.txt\")\n",
    "arformat = \"text/xml\"  # text/xml为XML文件格式；text/plain为纯文本txt格式\n",
    "corpus_type = \"article\" # article/abstract\n",
    "output_path = os.path.join(PATH,\"input_xml\")\n",
    "# output_path = os.path.join(PATH,\"input_txt\")\n",
    "fd = File_Download(api_path, dois, arformat, corpus_type, output_path)\n",
    "count = len(dois)\n",
    "for i in range(0, count):# 当代码终止，将最新生成的doi所在dois中的索引（start_id）换掉这里的0\n",
    "    doi = fd.run(0,dois,i)\n",
    "    print(doi)"
   ]
  },
  {
   "cell_type": "markdown",
   "metadata": {},
   "source": [
    "Downloads for HTML format files "
   ]
  },
  {
   "cell_type": "code",
   "execution_count": 5,
   "metadata": {},
   "outputs": [],
   "source": [
    "from other_articles_archive.html_download import *"
   ]
  },
  {
   "cell_type": "code",
   "execution_count": 6,
   "metadata": {},
   "outputs": [],
   "source": [
    "PATH = os.getcwd() # 获取当前文件的绝对路径\n",
    "# the path of excel file contains Dois information\n",
    "dois = [\n",
    "    \"10.1007/s11837-014-1181-y\",\n",
    "]\n",
    "User_Agent = 'Mozilla/5.0 (Windows NT 6.1; WOW64; rv:23.0)\\\n",
    "                Gecko/20100101 Firefox/23.0'\n",
    "# the path of folder to store the output excel files\n",
    "output_path = os.path.join(PATH,\"input_html\")\n",
    "for i in range(len(dois)):\n",
    "    url_te = doi_info(dois[i])\n",
    "    if url_te[0]!=\"other URL\":\n",
    "        html = getHtml(url_te,User_Agent)\n",
    "        name = dois[i].replace(\"/\",\"-\")\n",
    "        saveHtml(os.path.join(output_path,str(name)), html)"
   ]
  },
  {
   "cell_type": "markdown",
   "metadata": {},
   "source": [
    "## 1.Corpus preprocess"
   ]
  },
  {
   "cell_type": "markdown",
   "metadata": {},
   "source": [
    "In the folder 'input_txt', 'input_html', and 'input_xml', we provide a case corpus respectively."
   ]
  },
  {
   "cell_type": "code",
   "execution_count": null,
   "metadata": {},
   "outputs": [],
   "source": [
    "from text_extractor.T_pre_processor import TPreProcessor\n",
    "from text_extractor.get_full_text import Filter_text\n",
    "import os"
   ]
  },
  {
   "cell_type": "markdown",
   "metadata": {},
   "source": [
    "Here we take the plain text corpus('input_txt') for example. The corpus in the folder 'input_txt' is obtained automatically by Elsevier Dev API."
   ]
  },
  {
   "cell_type": "markdown",
   "metadata": {},
   "source": [
    "Each time run this code, please empty the folder 'output_files' to prevent duplicate writing of results into the same output file."
   ]
  },
  {
   "cell_type": "code",
   "execution_count": 9,
   "metadata": {},
   "outputs": [],
   "source": [
    "# the path of txt files to input\n",
    "txt_path = r\".\\input_txt\"\n",
    "# the path of configuration file\n",
    "c_path = r\".\\pipeline\\dictionary.ini\"\n",
    "# target property\n",
    "prop_name = \"solvus\"\n",
    "# the output path of the corpus after preprocessing\n",
    "text_path = \".\\output_files\""
   ]
  },
  {
   "cell_type": "code",
   "execution_count": 42,
   "metadata": {},
   "outputs": [
    {
     "data": {
      "text/plain": [
       "'Keyword Co-Al-W-base alloy Tensile behavior Dislocation structures Stacking fault 1 Introduction Nickel-base superalloys , possessing exceptional mechanical properties due to the well known strengthening of γ′ type γ′ precipitates , are widely used for manufacturing aircraft and power-generation engine turbines . Recently , Co-base superalloys strengthened by γ′ ( γ′ ) with γ′ structure have gained substantial interest . A series of experimental [ 1-7 ] and computational [ 8,9 ] efforts have been done to study the effects of alloying elements on the microstructure and mechanical property of the new Co-base alloys , suggesting that γ′ has some similarities with that of Ni3Al and can be practically used as the strengthening phase of Co-base superalloys . However , in the Co-Al-W-base alloys , large amount of W is added to stabilize γ′ , leading to a high density . The γ′ solvus temperature is relatively lower compared with that of Ni-base superalloys , a big restriction on high temperature applications . Efforts have been dedicated to improve the two-phase γ/γ′ microstructural stability at elevated temperature . Ta is effective to improve the γ′ solvus temperature in ternary Co-Al-W system [ 3,4 ] . The γ′ solvus temperature of Co-9Al-8W-2Ta-2Cr ( at % ) alloy is above 1050°C which is slightly lower than that of Co-9Al-8W-2Ta ( at % ) alloy [ 3 ] , while the γ′ solvus temperature of Co-7.8Al-7.8W-2Ta-4.5Cr ( at % ) alloy is only 960°C [ 4 ] . In a Co-7.5Al-7W-x Cr ( x =13 , 17 , 21 , at % ) alloy system [ 5 ] , the γ′ solvus temperature is decreasing as the Cr content increasing . It seems that the addition of Cr makes against the improvement of γ′ solvus temperature . With 8 at % Cr additions , the oxidation resistance of this new type Co-base superalloys is approaching the level of MAR-M 509 at 800°C [ 6 ] . Recent investigations by Shinagawa et al . [ 7 ] indicate that substitution of Ni for W can stabilize the γ′ phase and slightly increase the γ′ solvus temperature , which is beneficial to decrease the density . Besides , a combined addition of Cr and Ni to ternary Co-Al-W system can improve the γ′ solvus temperature [ 5 ] . It can be seen that the combination of alloying elements greatly affects the γ′ solvus temperature of Co-Al-W-base alloys . It is interesting to know the effect of a combined addition of Ni , Cr and Ta on the microstructure and property of Co-Al-W alloy system . Thus , in the present study , a Co-Al-W-Ni-Cr-Ta alloy system is tentatively designed , whose tungsten amount is merely half of those reported Co-base alloys [ 3,4 ] , and attentions are paid to the microstructure and tensile properties of the alloy and characterizing the main deformation microstructures with the aim of comparison to those of Co-base alloys containing high amount of tungsten . 2 Experimental procedure The nominal composition ( at % ) of the alloy studied is as follows : Al~10 , W 5 , Ni~17 , Cr 6 , Ta 2.7 , balance by Co ( named as 5W ) . The master alloy was melted in a vacuum induction furnace , and then directionally solidified into [ 001 ] single crystal rods by Bridgman technique at a constant withdraw rate of 6 mm/min . The melting point and γ′ solvus temperature of the alloy were determined by Differential Thermal Analysis ( DTA ) under high purity Ar atmosphere with a heating rate of 10°C/min . The heat treatments were carried out as follows : 1310°C/10°C h , furnace cooling+1000°C/36 h , air cooling+750°C/24 h , air cooling . Heat-treated samples were polished in a solution of 42 ml H3PO4 +34 ml H2SO4 +24 ml H2O at 10 V.The microstructure was analyzed using a Scanning Electron Microscope ( SEM ) . The volume fraction and size distribution of γ′ precipitates were analyzed by image analyzer . Tensile specimens with a nominal 35 mm gage length and a diameter of 5 mm were machined from heat-treated samples . Tensile tests were conducted at a strain rate of 1×10−4 s−1 from room temperature to 1000°C with the crystal growth direction parallel to the tension loading direction . During the test , the temperature variation was maintained within ±2°C . At least two identical specimens were tested at each temperature . AJMS-6301F field-emission scanning electron microscope ( SEM ) was used to observe the fractures . Transverse sections of the fractured specimens were cut into discs with 0.5 mm in thickness . These discs were polished to 50 μm , and then subjected to twin-jet polishing in a solution of methanol with 5 vol % perchloric acid at −30°C and 18-20 V.A JEM~2100 Transmission Electron Microscope ( TEM ) was used for dislocations analysis . 3 Results 3.1 Microstructures The transformation temperatures measured by DTA are given in Table 1 . For comparison , the transformation temperatures of other Co-base superalloys with γ/γ′ microstructure and the Ni-base superalloy CMSX-4 are also given in Table 1 . It can be seen that the solidus and liquidus of Co-base superalloys are higher than those of Ni-base superalloys . This suggests that there is a possibility for greater temperature capability compared to Ni-base alloys . However , the γ′ solvus temperature of Co-base alloys is still much lower than that of Ni-base superalloy CMSX-4 . By comparing Co-9Al-9W ( at % ) alloy and Co-7.3Al-6.8W ( at % ) alloy , the γ′ solvus temperature is decreased from 985°C to 854°C , indicating a lower W content depresses the stability of γ′ . With large amount of Ni additions , the γ′ solvus temperature increases slightly . As mentioned earlier , alloying with certain amount of Cr will result in the decrease of γ′ solvus temperature . Possessing a higher amount of W and Ta , the γ′ solvus temperature of Co-7.8Al-7.8W-4.5Cr-2Ta ( at % ) alloy is lower than that of Co-9.9Al-4.8W-1.8Ta ( at % ) alloy , probably associated with the addition of Cr . Thus , simple substitution of Ni for W or alloying with certain amount of Cr in Co-Al-W-Ta alloy system is not valid to improve the γ′ solvus temperature . The~5W alloy exhibits a relative higher γ′ solvus temperature and lower density compared with those of Co-8.8Al-9.8W-2Ta ( at % ) alloy , suggesting that alloying with high Ni and high Ta can overwhelm negative Cr effect as well as the negative low W effect . The SEM micrographs and frequency size distribution of γ′ precipitates of the heat-treated sample are shown in fig  1 . The~5W alloy is only constituted of γ and γ′ phases . The γ′ precipitates exhibit cuboidal morphology , aligned along the 〈100〉 direction , which is similar to that of the typical Ni-base superalloys . It is possible to note that the size distribution is close to a Gaussian distribution ( fig  1 b ) . The average size of γ′ precipitates is about 310 nm . Based on the results of image analyzer , the γ′ volume fraction of the alloy is about 65% . 3.2 Tensile behavior fig  2 shows true stress-strain curves of the alloy tested at different temperatures . Crystal orientations of four single-crystal bars used in the present study are about 5° , 6° , 3° , 8° away from [ 001 ] , respectively . It can be seen that the alloy exhibits different tensile behavior over the experimental temperature ranges . That is at room temperature , a strong strain hardening phenomenon is observed . With the increase of temperature , the degree of strain hardening becomes weak . The partial enlargement of A in the tensile curve tested at room temperature is shown in the top-right corner , in which serrations are observed . Serrations are also observed at the initial stage after yielding up to 800°C . Such similar phenomenon is also observed in several Ni-base single-crystal superalloys [ 11 ] , which is due to a difficult dislocation generation step in the γ matrix and then an easy propagation step in an octahedral slip plane . So far , the authors have studied the effect of microstructures , strain rate and temperature on the serrations . The occurrence of serrations observed in the present study will be discussed in another paper . It seems that the curve tested at 900°C exhibits two elastic stages . It is not an accidental phenomenon , which is also observed in the other two specimens tested in same conditions . The partial enlargement of the kinking region in the 900°C curve is shown in the lower right corner . Some small serrations can be observed , while serrations are hardly observed beyond the region . It is not clear whether the serrations are associated with the kinking . Further work needs to be done to clarify the uncommon phenomenon . The 0.2% yield strength as a function of temperature is plotted in fig  3 . For comparison , those of PWA1480 single crystal superalloy [ 12 ] , Mar-M509 superalloy [ 13 ] and two γ′-strengthened Co-base superalloys [ 4 ] are also included . It can be seen that the strength of γ′-strengthened Co-base superalloys is higher than that of a conventional Co-base superalloy Mar-M509 . At high temperature , the yield strength of γ′-strengthened Co-base superalloys is even comparable to that of PWA1480 at a similar strain rate of 8.33×10−5 s−1 above 871°C [ 12 ] , so the Co-base alloy system has a great potential for high-temperature structural applications above 900°C . However the intermediate-temperature strength of γ′-strengthened Co-base superalloys is still inferior to that of Ni-base superalloys . For Ni-base superalloys , the deformation mechanism below peak temperature is well accepted that γ′ precipitates are cut by a/2〈110〉 dislocations on octahedral slip forming an antiphase boundary ( APB ) . Analogously , in Co-base superalloys , γ′ precipitates are cut by a/2〈110〉 dislocations on octahedral as well as cubic slip from 600°C to the peak temperature [ 4 ] . In the single phase γ′ alloys [ 14 ] , extensive APB-coupled dislocations are observed below the peak temperature . The associated APB energy , γ APB , represents a barrier which must be overcome if cutting of particle occurs , and the precipitate-cutting stress is expected to be in the order γ APB /b , where b is the Burgers vector . Thus , for γ′-strengthened Co-base superalloys the strength can be enhanced by alloying elements that increase the APB energy . In view of inadequate understanding of the alloying effect on APB energy , availability of a thermodynamic database would provide useful guidance in identifying the key alloying elements . Similar to another two Co-base alloys in fig  3 , the 5W alloy exhibits a three-stage temperature dependence of the stress . In the low temperature range ( below 600°C ) , the strength decreases with increasing temperature . In intermediate temperature range an anomalous behavior is found which peaks at around 800°C . In the high temperature range ( above 800°C ) , the strength decreases again . At room temperature , the yield strength of 5W alloy is lower than that of Co-8.8Al-9.8W-2Ta ( at % ) alloy . With temperature increasing , the 5W alloy and Co-8.8Al-9.8W-2Ta ( at % ) possess similar strength up to 700°C . Nevertheless , above the peak temperature , the strength of the 5W alloy is inferior to that of Co-8.8Al-9.8W-2Ta ( at % ) , exhibiting a slightly rapid decrease in strength . Compared with Co-9.4Al-10.7W ( at % ) , the 5W alloy exhibits an higher yield strength during the testing temperature range . This suggests that despite of alloying with a small quantity of tungsten the strength still possesses superior strength with Ni and Ta additions . 3.3 Fracture surfaces fig  4 shows the fractures of specimens tested at room temperature , 700°C and 1000°C . Below the peak temperature , the samples exhibit similar fracture characteristics . At room temperature and at 700°C , fractures are wedge-shaped , and cross sections exhibit elliptical shape , indicating a predominance of a single 〈110〉 { 111 } type slip system . Less river patterns and cleavage ledges are observed in the fracture surfaces . The dimple morphology shown in fig  4 b and d confirms that the specimens fractured in a ductile mode under tension . At 1000°C , the fracture surface is cavernous . Many pores as well as facets can be observed in fig  4 f. At higher temperature and lower strain rate , the movement of dislocations as well as pores formed during solidification can lead to the coalescence of micropores . The continuous coalescence of micropores can result in the spread of microcracks and the occurrence of facets . The spread of microcracks will result in the formation of large cracks , which can contribute to the fracture rapidly . It can be inferred that the specimen tested at 1000°C fractured in such mode . 3.4 Dislocation structures 3.4.1 Low temperature regime ( 20-600°C ) fig  5 shows the deformation microstructures of 5W alloy tested at room temperature . Three SF configurations are observed in the γ′ precipitates or in γ channels , which are SFs extending from the γ/γ′ interface to γ′ precipitates , SF loops within γ′ and SFs in γ matrix . It can be seen that there are more SFs in the γ channels of the [ 010 ] direction than those in the [ 100 ] direction , which means the [ 010 ] and [ 100 ] channels are under different stress states . The maldistribution of SFs between [ 010 ] channels and [ 100 ] channels in tensile specimens tested at room temperature was also observed in a single-crystal Ni-base superalloy , which was attributed to the deviation of crystal orientation from the ideal [ 001 ] [ 15 ] . A similar dislocation activity in parallel or vertical channels is also observed in Co-9Al-9W-0.1B ( at % ) alloy after creep tested at 850°C [ 16 ] . Their view on such behavior is based on Nabarro׳s predictions [ 17 ] that in the first stage of creep the dislocation activity is contained in one family of matrix channels either parallel ( vertical ) or perpendicular ( horizontal ) to the external applied stress and the preferred channel is dependent on the mode of creep deformation either compressive or tensile and the sign of the lattice mismatch between the phases γ and γ′ . The tensile test is a transient deformation process , much similar with the primary stage of creep . Thus , the two conditions mentioned above may result in the different local stress states in both orientations of matrix channels . SFs crossings and interactions with dislocations in the γ channel are expected to be effective impediments to gliding dislocations on different planes . It can be deduced that the strong strain hardening phenomenon observed at room temperature is related to the occurrence of SFs in the γ channel . High density of SFs extending the entire γ′ phase is frequently observed . In contrast to the single , isolated SFs shearing the entire γ′ particles , fault loops are occasionally observed within γ′ , as shown in fig  5 . The formation of three SF configurations will be discussed in Section 4.2 . The deformation microstructures observed at 300°C ( shown in fig  6 ) are similar to those observations at room temperature . SFs in γ′ precipitates and fault loops are also observed . 3.4.2 Intermediate temperature regime ( 600-800°C ) fig  7 demonstrates the deformation microstructures at 600°C , 700°C and 800°C , which correspond to temperatures below , near-peak and at the peak stress . At 600°C ( fig  7 a ) , SFs are also observed both in γ′ precipitates and γ channels . Some straight dislocations in the γ′ precipitates are observed as well ( marked by dark arrows ) , indicating the shearing mechanism . In the single-crystal Co-8.8Al-9.8W-2Ta ( at % ) and Co-9.4Al-10.7W ( at % ) alloys after compression at same temperature , pairs of a/2〈110〉-type dislocations that sheared into γ′ precipitates were frequently observed [ 4 ] . Since the a/2〈110〉 dislocation in the γ′ precipitate can dissociate into a/3〈121〉 dislocation and a/6〈112〉 Shockley dislocation accompanying with SFs , the SFs observed in present alloy can be also formed in such way . From the true stress-strain curve at 600°C , obviously work hardening can be observed . SFs in the γ channels may partially contribute to the work hardening . At 700°C ( fig  7 b ) , a typical feature is dislocations shearing into γ′ precipitates . These dislocations ( marked by white arrows ) lie in the [ 010 ] direction , and TEM analysis demonstrates that these dislocations are the a/3〈121〉-type dislocations lying in the { 111 } plane in the γ′ precipitate while at two beam conditions SFs are invisible . The dislocations ( marked by single white arrow in fig  7 b and d ) slip in different directions within same γ′ precipitate , indicating a possibility which is the cross slip of the superdislocations from the octahedral plane to the cube plane . SFs in γ′ precipitates and fault loops are also observed . What interests us more is the occurrence of fault loops within γ′ precipitates at high temperature , which are generally observed in low temperature range . We will give the explanation on the abnormal appearance of fault loops in Section 4.2 . fig  7 c shows general features of the dislocation substructures observed in the 5W alloy after deformation in tension at peak temperature . High density of SFs in the γ′ phase without extension across the γ channel is commonly observed . The density of SFs at 800°C is higher than that at 700°C and 600°C ( fig  7 a and b ) . In the single-crystal alloys Co-8.8Al-9.8W-2Ta ( at % ) and Co-9.4Al-10.7W ( at % ) [ 4 ] , the deformation occurs initially by shearing of the γ′ precipitates by a/2〈110〉 superpartial dislocations that enter as pairs of dislocations from the γ phase at 800°C . Since the a/2〈l10〉 partials can dissociate at the γ/γ′ interface or in the γ′ precipitates , yielding a superlattice intrinsic stacking fault ( SISF ) , it is difficult to confirm which one takes place during the experiment . The SFs ( projected on the ( 001 ) plane ) extending along mutually perpendicular directions in the same γ′ precipitate are also observed , suggesting that dislocations with different slip systems are activated . In the γ channel lots of entangled dislocations and only few SFs can be seen , while strong interaction of SFs within γ′ precipitates can be seen , probably associated with the work hardening exhibited in the true stress-strain curve . Fault loops are still observed within some γ′ precipitates ( marked by dark arrows in fig  7 c ) . 3.4.3 High temperature regime ( 900-1000°C ) The dislocation configuration at 900°C is shown in fig  8 . A high density of SFs is observed in the γ′ precipitates , similar to the observations in single-crystal alloy Co-8.8Al-9.8W-2Ta ( at % ) at 890°C [ 4 ] , indicating a similar dissociation mechanism . Thus , the SFs are likely to be generated by the reaction of dislocations at the γ/γ′ interfaces to form partial dislocations and gliding of the partial dislocations across the γ′ precipitates . However , the major deformation mechanism in the alloy Co-9.4Al-10.7W ( at % ) is bypassing of the precipitates by unpaired a/2〈110〉 dislocations above 800°C [ 4 ] . In the alloys Co-9.4Al-10.7W ( at % ) and Co-8.8Al-9.8W-2Ta ( at % ) , the variation of deformation mechanisms above the peak temperature is associated with the SISF energy of γ′ impacted by Ta additions . The applied stress that enables the a/3〈112〉 partial dislocations to shear into γ′ precipitates is affected by the SISF energy of γ′ , a higher SISF energy requiring a higher applied stress and resulting in the increment of strength [ 9 ] . Ta is believed to increase the SISF energy of γ′ . Around 900°C , the yield strength of 5W alloy is higher than that of Co-9.4Al-10.7W ( at % ) and lower than that of Co-8.8Al-9.8W-2Ta ( at % ) , probably resulting from the refractory-element solid-solution-hardening and the variation in the SISF energy of γ′ . fig  9 shows the configuration of the dislocations after tensile test at 1000°C . In comparison with the γ′ precipitates sheared by dislocations below 900°C , deformation at higher temperatures is mainly via bypassing of γ′ particles by dislocations , which is similar to observations in alloy Co-9.4Al-10.7W ( at % ) above 900°C . Interrupted tensile test results from Milligan et al . indicate that the first step in deformation was bypassing of the γ′ particles , which was followed by shearing of the γ′ particles later during tension [ 18 ] . SFs are observed in γ′ precipitates , indicating the shearing mechanism . Thus , this suggests that the deformation mechanism in the present alloy at 1000°C is very similar . Compared with Ni-base superalloys , γ/γ′ interface dislocation networks are hardly observed , probably due to the large positive lattice mismatch , resulting in the rapid decrease in yield strength . 4 Discussion 4.1 The yield strength anomaly As shown in fig  3 , from room temperature to 600°C , the yield strength decreases with increasing temperature , and then the yield stress abnormally increases with temperature up to 800°C , and finally the yield stress decreases rapidly above 800°C . In the γ′ compound γ′ , the yield strength exhibits a near-plateau from room temperature to 677°C and an anomalous increase between 677 and 827°C [ 14 ] , which is analogous to the observations in the present alloy . It is generally understood that the anomalous temperature dependence of the yield strength in γ′ compounds is caused by pinning of cross-slipped screw segments of superdislocations from the octahedral { 111 } plane to the cube { 100 } plane , which is driven by elastic anisotropy and/or lower APB energy on { 001 } planes . It is reported [ 14 ] that the elastic anisotropy factor of γ′ is larger than that of Ni3Al by 5-10% and the ratio of APB energy on { 111 } planes and { 001 } planes is 1.42 at 700°C which compares well with those observed for many other γ′ compounds . In view of the yield strength anomaly as well as observations in fig  7 d , it can be inferred that the similar strengthening mechanism exists in the present study . 4.2 Temperature dependence of SFs formation With respect to Ni-base superalloys , the deformation mechanism in tensile tests consists of : ( i ) shearing of γ′ precipitates by pairs of a/2〈110〉dislocations on { 111 } planes in low temperatures range ( 20-760°C ) , ( ii ) shearing of γ′ precipitates by the 〈112〉 { 111 } slip system at intermediate temperatures ( around 760°C ) , and ( iii ) bypassing followed by shearing of the γ′ precipitates at high temperatures ( above 800°C ) . SFs are commonly observed at intermediate-temperatures deformations . A typical reaction might then be [ 19 ] : ( 1 ) a / 2 〈 011 〉 + a / 2 〈 1 ¯ 01 〉 → a / 6 〈 1 ¯ 12 〉 + a / 3 〈 1 ¯ 12 〉 + SF in γ ′ If the applied stress is sufficient , then the a/3〈1 ¯ 12〉 dislocation is able to enter the γ′ precipitate leaving a SISF behind it , and the a/6〈1 ¯ 12〉 remains at the γ/γ′ interface , relaxing the coherent stresses . However , in the present alloy 5W , SFs are observed either in γ′ precipitates or in γ channel with various configurations in a wide temperature range after deformation . SFs in γ′ precipitate are commonly observed at 800°C and 900°C , which can be observed in Ni-base superalloys at lower temperature during tension . In a Ta-doped γ′-strengthened Co-base superalloys [ 4 ] , high density of SFs that originate from dislocation segments on the γ/γ′ interfaces are observed at 890°C after compression test , which are also formed by the way of Eq . ( 1 ) . In the present alloy , SFs observed at high temperature are probably generated in a similar way . In a Ru-containing single-crystal Ni-base superalloys [ 15 ] , SFs appear in both γ′ precipitates and γ channels after tensile testing at room temperature , which is attributed to a lower SF energy . As for conventional Co-base superalloys , owning a lower SF energy , dislocations frequently dissociate into Shockley partial dislocations bounding SFs even without deformation [ 20 ] . Therefore , the formation of SFs in the γ channel is probable due to its lower SF energy . It is interesting to note that fault loops are observed both at low and high temperature . These defects are commonly observed in many alloys such as PWA~1480 [ 21 ] and ( Co , Ni ) 3Ti [ 22 ] after deformation in the low temperature range . A possible formation way is given [ 21 ] : ( 2 ) a 〈 1 ¯ 01 〉 → a / 3 〈 1 ¯ 1 ¯ 2 〉 + a / 3 〈 2 ¯ 11 〉 + SF in γ ′ In the compression test of γ′ at low temperature range ( from −196°C to 300°C ) , fault loops were continually observed , and the TEM analysis suggested these were formed by Eq . ( 2 ) [ 14 ] as well . A series of experiments [ 23-25 ] indicates that the SISF can be switched from the APB . Assuming that the total energy of an unit a〈011〉 dislocation dissociation into two partial a/2〈011〉 dislocations coupled by APB and Eq . ( 2 ) is E 1 and E 2 , respectively , then whether this transition happens or not depends on the relative magnitude of total energies E 1 and E 2 of the two dissociation schemes . The criterion for the transition from APB to SISF is given in Ref . [ 24 ] as follows : ( 3 ) If γ APB γ SISF ＞2.49 ( d 1 b ) 3 / 7 cos 2 ( β ) + 1.3 ( d 1 b ) 22 / 203 sin 2 ( β ) , then E 2＜ E 1 , where d 1 is the equilibrium spacing of the component partials in these two schemes , b is the magnitudes of the Burgers vector of the component partials , β is the angle between the burgers vector and the dislocation line . Thus , it can be inferred that large ratio of APB energy and SFE results in the formation of fault loops at room temperature . In single phase γ′ , the size and density of the faulted dipoles decrease with the increasing deformation temperature up to 300°C , where the faulted dipoles disappear [ 14 ] . This suggests that the ratio of APB energy and SFE decrease with temperature . However , at 700°C and 800°C , fault loops are still observed . The~5W alloy is more complex alloying and certain solute atoms may segregate to defects . The experimental [ 26 ] and computational [ 27 ] results have proved that the SFE can be reduced by the segregation of solute atoms ( i.e . Suzuki segregation ) . The simulation results [ 27 ] revealed that Cr segregated at SFs and Nb additions enhanced the Cr segregation significantly in a single phase Co-base alloy , which resulted in a further decrease of SFE . Thus , there is a possibility that the SFE of sites which solute atoms segregate to is decreased and the small ratio of APB energy and SFE leads to the formation of fault loops . So far , it is not clear which element segregates at SFs and which element can enhance or decrease the SFE of γ′ phase in Co-Al-W-base alloys . Thus , further work needs to be done to clarify the elements segregation behavior at SFs and its effect on SFE . 5°Conclusion The microstructures of the single-crystal Co-Al-W-base superalloy have been characterized by TEM after tensile tests at different temperatures . The deformation mechanisms under different test conditions have been analyzed . The following conclusions can be drawn : ( 1 ) Alloying is an effective way to improve the mechanical properties of the new generation Co-base superalloys . With the great reduction of tungsten amount , the alloy still possesses higher γ′ solvus temperature and yield strength by additions of Ta and Ni . ( 2 ) From room temperature to 900°C , the deformation mechanism is the shearing of γ particles by dislocations . At 1000°C , the deformation mechanism is the bypassing of γ′ particles by dislocations followed by shearing of γ′ particles . The anomalous yield behavior above 600°C can be attributed to the paired 1/2〈110〉 dislocation slip on both octahedral and cube planes in the γ′ precipitates . ( 3 ) Fault loops are observed both at low and high temperature . At low temperature , the occurrence of fault loops is associated with the relative high ratio of APB energy and SFE . At high temperature , one possibility of the formation fault loops is that a lower SFE caused by Suzuki segregation results in the relative high ratio of APB energy and SFE . Acknowledgments This work was partly supported by the National Basic Research Program ( 973K Program ) of China under Grant no . 2010CB631206 and the National Natural Science Foundation of China ( NSFC ) under Grant nos . 51171179 , 51271174 , 51331005 , U1037601 and 11332010K . Reference'"
      ]
     },
     "execution_count": 42,
     "metadata": {},
     "output_type": "execute_result"
    }
   ],
   "source": [
    "FT = Filter_text(txt_path,text_path)\n",
    "txt_name = FT.process()\n",
    "length = os.listdir(text_path)\n",
    "\n",
    "with open(os.path.join(text_path,length[0]) ,'r',encoding='utf-8') as file:\n",
    "    data = file.read()\n",
    "processor = TPreProcessor(data, prop_name, c_path)\n",
    "filter_txt = processor.processor()\n",
    "filter_txt"
   ]
  },
  {
   "cell_type": "markdown",
   "metadata": {},
   "source": [
    "## 2.Sentence classification"
   ]
  },
  {
   "cell_type": "markdown",
   "metadata": {},
   "source": [
    "To classifiy the sentences which contains the solvus temperature information, sentence classification is needed. Please run the following codes."
   ]
  },
  {
   "cell_type": "code",
   "execution_count": 43,
   "metadata": {},
   "outputs": [],
   "source": [
    "from text_extractor.sentence_positioner import Sentence_Positioner"
   ]
  },
  {
   "cell_type": "code",
   "execution_count": 44,
   "metadata": {},
   "outputs": [
    {
     "data": {
      "text/plain": [
       "{1: 'The γ′ solvus temperature of Co-9Al-8W-2Ta-2Cr ( at % ) alloy is above 1050°C which is slightly lower than that of Co-9Al-8W-2Ta ( at % ) alloy [ 3 ] , while the γ′ solvus temperature of Co-7.8Al-7.8W-2Ta-4.5Cr ( at % ) alloy is only 960°C [ 4 ] .',\n",
       " 2: 'By comparing Co-9Al-9W ( at % ) alloy and Co-7.3Al-6.8W ( at % ) alloy , the γ′ solvus temperature is decreased from 985°C to 854°C , indicating a lower W content depresses the stability of γ′ .'}"
      ]
     },
     "execution_count": 44,
     "metadata": {},
     "output_type": "execute_result"
    }
   ],
   "source": [
    "positioner = Sentence_Positioner(filter_txt,prop_name,c_path)\n",
    "target_sents = positioner.target_sent()\n",
    "target_sents"
   ]
  },
  {
   "cell_type": "markdown",
   "metadata": {},
   "source": [
    "## 3.Named entity recognition & relation extraction"
   ]
  },
  {
   "cell_type": "markdown",
   "metadata": {},
   "source": [
    "Named entity recognition aims to recognize the alloy names and property parameters in the superalloy corpus. Relation extraction aims to extracted property tuples (alloy_named_entity, property_specifier, property_value) based on the results of named entity recognition."
   ]
  },
  {
   "cell_type": "code",
   "execution_count": 49,
   "metadata": {},
   "outputs": [],
   "source": [
    "from text_extractor.Phrase_parse import Phrase_parse\n",
    "from text_extractor.Relation_extraciton import Relation_extraciton"
   ]
  },
  {
   "cell_type": "code",
   "execution_count": 52,
   "metadata": {},
   "outputs": [
    {
     "name": "stdout",
     "output_type": "stream",
     "text": [
      "Sentence: The γ′ solvus temperature of Co-9Al-8W-2Ta-2Cr ( at % ) alloy is above 1050°C which is slightly lower than that of Co-9Al-8W-2Ta ( at % ) alloy [ 3 ] , while the γ′ solvus temperature of Co-7.8Al-7.8W-2Ta-4.5Cr ( at % ) alloy is only 960°C [ 4 ] .\n",
      "Alloy name: ['Co-9Al-8W-2Ta-2Cr', 'Co-9Al-8W-2Ta', 'Co-7.8Al-7.8W-2Ta-4.5Cr']\n",
      "Property number: ['1050°C', '960°C']\n",
      "Relation extraction results: {1: ('Co-9Al-8W-2Ta-2Cr', 'solvus', '1050°C'), 2: ('Co-7.8Al-7.8W-2Ta-4.5Cr', 'solvus', '960°C')}\n",
      "\n",
      "\n",
      "Sentence: By comparing Co-9Al-9W ( at % ) alloy and Co-7.3Al-6.8W ( at % ) alloy , the γ′ solvus temperature is decreased from 985°C to 854°C , indicating a lower W content depresses the stability of γ′ .\n",
      "Alloy name: ['Co-9Al-9W', 'Co-7.3Al-6.8W']\n",
      "Property number: ['985°C', '854°C']\n",
      "Relation extraction results: {1: ('Co-9Al-9W', 'solvus', '985°C'), 2: ('Co-7.3Al-6.8W', 'solvus', '854°C')}\n",
      "\n",
      "\n"
     ]
    }
   ],
   "source": [
    "for n,sent in target_sents.items():\n",
    "    parse = Phrase_parse(sent, prop_name, c_path)\n",
    "    sub_order, sub_id, object_list = parse.alloy_sub_search()\n",
    "    print(\"Sentence:\",sent)\n",
    "    print(\"Alloy name:\",sub_order)\n",
    "    print(\"Property number:\",object_list)\n",
    "    RE = Relation_extraciton(prop_name, sent, sub_order, sub_id, object_list, c_path)\n",
    "    all_outcome = RE.triple_extraction()\n",
    "    print(\"Relation extraction results:\",all_outcome)\n",
    "    print(\"\\n\")"
   ]
  },
  {
   "cell_type": "markdown",
   "metadata": {},
   "source": [
    "## 4.Table parsing（From XML file）"
   ]
  },
  {
   "cell_type": "markdown",
   "metadata": {},
   "source": [
    "Here we take the xml file ('input_xml') for example. The corpus in the folder 'input_xml' is obtained automatically by Elsevier Dev API."
   ]
  },
  {
   "cell_type": "code",
   "execution_count": 4,
   "metadata": {
    "scrolled": true
   },
   "outputs": [],
   "source": [
    "from table_extractor.elsevier_xml.class_modified import TableExtractorToAlloy,get_extraction_outcome\n",
    "from table_extractor.elsevier_xml.dictionary import Dictionary"
   ]
  },
  {
   "cell_type": "code",
   "execution_count": 5,
   "metadata": {},
   "outputs": [
    {
     "name": "stdout",
     "output_type": "stream",
     "text": [
      "10.1016/j.msea.2014.09.074\n"
     ]
    }
   ],
   "source": [
    "# the path of configuration file\n",
    "config_path = r\".\\pipeline\\dictionary.ini\"\n",
    "# the path of document contains xml files\n",
    "xml_path = r'.\\input_xml'\n",
    "# the path of folder include excels that have been output\n",
    "save_path = r'.\\output_tables'\n",
    "all_error_file, length = get_extraction_outcome(xml_path, save_path, config_path)"
   ]
  },
  {
   "cell_type": "markdown",
   "metadata": {},
   "source": [
    "View the table information extracted from xml file"
   ]
  },
  {
   "cell_type": "code",
   "execution_count": 6,
   "metadata": {},
   "outputs": [],
   "source": [
    "import os\n",
    "import xlrd\n",
    "import pandas as pd"
   ]
  },
  {
   "cell_type": "code",
   "execution_count": 10,
   "metadata": {},
   "outputs": [
    {
     "data": {
      "text/html": [
       "<div>\n",
       "<style scoped>\n",
       "    .dataframe tbody tr th:only-of-type {\n",
       "        vertical-align: middle;\n",
       "    }\n",
       "\n",
       "    .dataframe tbody tr th {\n",
       "        vertical-align: top;\n",
       "    }\n",
       "\n",
       "    .dataframe thead th {\n",
       "        text-align: right;\n",
       "    }\n",
       "</style>\n",
       "<table border=\"1\" class=\"dataframe\">\n",
       "  <thead>\n",
       "    <tr style=\"text-align: right;\">\n",
       "      <th></th>\n",
       "      <th>10.1016/j.msea.2014.09.074</th>\n",
       "      <th>Unnamed: 1</th>\n",
       "      <th>Unnamed: 2</th>\n",
       "      <th>Unnamed: 3</th>\n",
       "      <th>Unnamed: 4</th>\n",
       "    </tr>\n",
       "  </thead>\n",
       "  <tbody>\n",
       "    <tr>\n",
       "      <th>0</th>\n",
       "      <td>Liquidus, solidus, g'-solvus temperatures and ...</td>\n",
       "      <td>NaN</td>\n",
       "      <td>NaN</td>\n",
       "      <td>NaN</td>\n",
       "      <td>NaN</td>\n",
       "    </tr>\n",
       "    <tr>\n",
       "      <th>1</th>\n",
       "      <td>Alloy</td>\n",
       "      <td>Transformation temperature (degC)</td>\n",
       "      <td>Transformation temperature (degC)</td>\n",
       "      <td>Transformation temperature (degC)</td>\n",
       "      <td>Density (gcm-3)</td>\n",
       "    </tr>\n",
       "    <tr>\n",
       "      <th>2</th>\n",
       "      <td>NaN</td>\n",
       "      <td>Solidus</td>\n",
       "      <td>Liquidus</td>\n",
       "      <td>g' solvus</td>\n",
       "      <td>Density (gcm-3)</td>\n",
       "    </tr>\n",
       "    <tr>\n",
       "      <th>3</th>\n",
       "      <td>5W</td>\n",
       "      <td>1395</td>\n",
       "      <td>1426</td>\n",
       "      <td>1100</td>\n",
       "      <td>9.32</td>\n",
       "    </tr>\n",
       "    <tr>\n",
       "      <th>4</th>\n",
       "      <td>Co-7.3Al-6.8W (at%) [5]</td>\n",
       "      <td>-</td>\n",
       "      <td>-</td>\n",
       "      <td>854</td>\n",
       "      <td>9.18</td>\n",
       "    </tr>\n",
       "    <tr>\n",
       "      <th>5</th>\n",
       "      <td>Co-9.2Al-9W (at%) [1]</td>\n",
       "      <td>1441</td>\n",
       "      <td>1466</td>\n",
       "      <td>985</td>\n",
       "      <td>9.54</td>\n",
       "    </tr>\n",
       "    <tr>\n",
       "      <th>6</th>\n",
       "      <td>Co-8.8Al-9.8W-2Ta (at%) [4]</td>\n",
       "      <td>1407</td>\n",
       "      <td>1451</td>\n",
       "      <td>1079</td>\n",
       "      <td>&gt;9.54</td>\n",
       "    </tr>\n",
       "    <tr>\n",
       "      <th>7</th>\n",
       "      <td>Co-7.3Al-7.2W-20.2Ni (at%) [5]</td>\n",
       "      <td>-</td>\n",
       "      <td>-</td>\n",
       "      <td>881</td>\n",
       "      <td>9.29</td>\n",
       "    </tr>\n",
       "    <tr>\n",
       "      <th>8</th>\n",
       "      <td>Co-7.8Al-7.8W-4.5Cr-2Ta (at%) [4]</td>\n",
       "      <td>1412</td>\n",
       "      <td>1453</td>\n",
       "      <td>960</td>\n",
       "      <td>-</td>\n",
       "    </tr>\n",
       "    <tr>\n",
       "      <th>9</th>\n",
       "      <td>Co-9.9Al-4.8W-1.8Ta (at%) [5]</td>\n",
       "      <td>-</td>\n",
       "      <td>-</td>\n",
       "      <td>983</td>\n",
       "      <td>9.09</td>\n",
       "    </tr>\n",
       "    <tr>\n",
       "      <th>10</th>\n",
       "      <td>CMSX-4 [10]</td>\n",
       "      <td>1326</td>\n",
       "      <td>1370</td>\n",
       "      <td>1309</td>\n",
       "      <td>8.70</td>\n",
       "    </tr>\n",
       "  </tbody>\n",
       "</table>\n",
       "</div>"
      ],
      "text/plain": [
       "                           10.1016/j.msea.2014.09.074  \\\n",
       "0   Liquidus, solidus, g'-solvus temperatures and ...   \n",
       "1                                               Alloy   \n",
       "2                                                 NaN   \n",
       "3                                                  5W   \n",
       "4                             Co-7.3Al-6.8W (at%) [5]   \n",
       "5                               Co-9.2Al-9W (at%) [1]   \n",
       "6                         Co-8.8Al-9.8W-2Ta (at%) [4]   \n",
       "7                      Co-7.3Al-7.2W-20.2Ni (at%) [5]   \n",
       "8                   Co-7.8Al-7.8W-4.5Cr-2Ta (at%) [4]   \n",
       "9                       Co-9.9Al-4.8W-1.8Ta (at%) [5]   \n",
       "10                                        CMSX-4 [10]   \n",
       "\n",
       "                           Unnamed: 1                         Unnamed: 2  \\\n",
       "0                                 NaN                                NaN   \n",
       "1   Transformation temperature (degC)  Transformation temperature (degC)   \n",
       "2                             Solidus                           Liquidus   \n",
       "3                                1395                               1426   \n",
       "4                                   -                                  -   \n",
       "5                                1441                               1466   \n",
       "6                                1407                               1451   \n",
       "7                                   -                                  -   \n",
       "8                                1412                               1453   \n",
       "9                                   -                                  -   \n",
       "10                               1326                               1370   \n",
       "\n",
       "                           Unnamed: 3       Unnamed: 4  \n",
       "0                                 NaN              NaN  \n",
       "1   Transformation temperature (degC)  Density (gcm-3)  \n",
       "2                           g' solvus  Density (gcm-3)  \n",
       "3                                1100             9.32  \n",
       "4                                 854             9.18  \n",
       "5                                 985             9.54  \n",
       "6                                1079            >9.54  \n",
       "7                                 881             9.29  \n",
       "8                                 960                -  \n",
       "9                                 983             9.09  \n",
       "10                               1309             8.70  "
      ]
     },
     "execution_count": 10,
     "metadata": {},
     "output_type": "execute_result"
    }
   ],
   "source": [
    "xlsx_files = os.listdir(save_path)\n",
    "xlsx_files\n",
    "xlsx_file = xlsx_files[0]\n",
    "xlsx_feature = pd.read_excel(os.path.join(save_path,xlsx_file), usecols=[0,1,2,3,4]) \n",
    "feature = pd.DataFrame(xlsx_feature)\n",
    "feature"
   ]
  },
  {
   "cell_type": "markdown",
   "metadata": {},
   "source": [
    "## 5.Table parsing（From HTML file）"
   ]
  },
  {
   "cell_type": "markdown",
   "metadata": {},
   "source": [
    "Here we take the doi('10.1115/1.2836743') for example. The tables of the article will be obtained automatically by crawler."
   ]
  },
  {
   "cell_type": "code",
   "execution_count": 16,
   "metadata": {},
   "outputs": [],
   "source": [
    "from table_extractor.web_other_journals_html.get_tifo_from_html import GetTableHtml\n",
    "import os\n",
    "import pandas as pd"
   ]
  },
  {
   "cell_type": "code",
   "execution_count": 11,
   "metadata": {},
   "outputs": [
    {
     "name": "stdout",
     "output_type": "stream",
     "text": [
      "Start crawling the page\n",
      "complete!\n",
      "complete!\n",
      "****************************************************************************************************\n",
      "[]\n"
     ]
    }
   ],
   "source": [
    "# doi of article\n",
    "doi = \"10.1115/1.2836743\"\n",
    "# the path of folder to store the output excel files\n",
    "output_path = r\".\\output_tables\"\n",
    "g_t = GetTableHtml(doi, output_path)\n",
    "g_t.run()"
   ]
  },
  {
   "cell_type": "code",
   "execution_count": 13,
   "metadata": {},
   "outputs": [
    {
     "data": {
      "text/plain": [
       "['10.1115-1.2836743.xlsx']"
      ]
     },
     "execution_count": 13,
     "metadata": {},
     "output_type": "execute_result"
    }
   ],
   "source": [
    "xlsx_files = os.listdir(output_path)\n",
    "xlsx_files"
   ]
  },
  {
   "cell_type": "markdown",
   "metadata": {},
   "source": [
    "View the generated information"
   ]
  },
  {
   "cell_type": "code",
   "execution_count": 19,
   "metadata": {},
   "outputs": [
    {
     "data": {
      "text/html": [
       "<div>\n",
       "<style scoped>\n",
       "    .dataframe tbody tr th:only-of-type {\n",
       "        vertical-align: middle;\n",
       "    }\n",
       "\n",
       "    .dataframe tbody tr th {\n",
       "        vertical-align: top;\n",
       "    }\n",
       "\n",
       "    .dataframe thead th {\n",
       "        text-align: right;\n",
       "    }\n",
       "</style>\n",
       "<table border=\"1\" class=\"dataframe\">\n",
       "  <thead>\n",
       "    <tr style=\"text-align: right;\">\n",
       "      <th></th>\n",
       "      <th>10.1115/1.2836743</th>\n",
       "      <th>Unnamed: 1</th>\n",
       "      <th>Unnamed: 2</th>\n",
       "      <th>Unnamed: 3</th>\n",
       "      <th>Unnamed: 4</th>\n",
       "      <th>Unnamed: 5</th>\n",
       "      <th>Unnamed: 6</th>\n",
       "      <th>Unnamed: 7</th>\n",
       "      <th>Unnamed: 8</th>\n",
       "      <th>Unnamed: 9</th>\n",
       "      <th>Unnamed: 10</th>\n",
       "      <th>Unnamed: 11</th>\n",
       "      <th>Unnamed: 12</th>\n",
       "      <th>Unnamed: 13</th>\n",
       "    </tr>\n",
       "  </thead>\n",
       "  <tbody>\n",
       "    <tr>\n",
       "      <th>0</th>\n",
       "      <td>Table 1Base alloy and filler metal nominal com...</td>\n",
       "      <td>NaN</td>\n",
       "      <td>NaN</td>\n",
       "      <td>NaN</td>\n",
       "      <td>NaN</td>\n",
       "      <td>NaN</td>\n",
       "      <td>NaN</td>\n",
       "      <td>NaN</td>\n",
       "      <td>NaN</td>\n",
       "      <td>NaN</td>\n",
       "      <td>NaN</td>\n",
       "      <td>NaN</td>\n",
       "      <td>NaN</td>\n",
       "      <td>NaN</td>\n",
       "    </tr>\n",
       "    <tr>\n",
       "      <th>1</th>\n",
       "      <td>Alloy</td>\n",
       "      <td>Condition</td>\n",
       "      <td>Al</td>\n",
       "      <td>C</td>\n",
       "      <td>Cr</td>\n",
       "      <td>Co</td>\n",
       "      <td>Fe</td>\n",
       "      <td>Mo</td>\n",
       "      <td>Nb</td>\n",
       "      <td>Ta</td>\n",
       "      <td>Ti</td>\n",
       "      <td>W</td>\n",
       "      <td>Zr</td>\n",
       "      <td>Ni</td>\n",
       "    </tr>\n",
       "    <tr>\n",
       "      <th>2</th>\n",
       "      <td>X-40</td>\n",
       "      <td>As cast</td>\n",
       "      <td>—</td>\n",
       "      <td>0.5</td>\n",
       "      <td>25</td>\n",
       "      <td>Bal.</td>\n",
       "      <td>1.5</td>\n",
       "      <td>—</td>\n",
       "      <td>—</td>\n",
       "      <td>—</td>\n",
       "      <td>—</td>\n",
       "      <td>7.5</td>\n",
       "      <td>—</td>\n",
       "      <td>10</td>\n",
       "    </tr>\n",
       "    <tr>\n",
       "      <th>3</th>\n",
       "      <td>IN738</td>\n",
       "      <td>Cast</td>\n",
       "      <td>3.4</td>\n",
       "      <td>0.17</td>\n",
       "      <td>16</td>\n",
       "      <td>8.5</td>\n",
       "      <td>—</td>\n",
       "      <td>1.75</td>\n",
       "      <td>0.9</td>\n",
       "      <td>1.75</td>\n",
       "      <td>3.4</td>\n",
       "      <td>2.6</td>\n",
       "      <td>0.1</td>\n",
       "      <td>Bal.</td>\n",
       "    </tr>\n",
       "  </tbody>\n",
       "</table>\n",
       "</div>"
      ],
      "text/plain": [
       "                                   10.1115/1.2836743 Unnamed: 1 Unnamed: 2  \\\n",
       "0  Table 1Base alloy and filler metal nominal com...        NaN        NaN   \n",
       "1                                              Alloy  Condition         Al   \n",
       "2                                               X-40    As cast          —   \n",
       "3                                              IN738       Cast        3.4   \n",
       "\n",
       "  Unnamed: 3 Unnamed: 4 Unnamed: 5 Unnamed: 6 Unnamed: 7 Unnamed: 8  \\\n",
       "0        NaN        NaN        NaN        NaN        NaN        NaN   \n",
       "1          C         Cr         Co         Fe         Mo         Nb   \n",
       "2        0.5         25       Bal.        1.5          —          —   \n",
       "3       0.17         16        8.5          —       1.75        0.9   \n",
       "\n",
       "  Unnamed: 9 Unnamed: 10 Unnamed: 11 Unnamed: 12 Unnamed: 13  \n",
       "0        NaN         NaN         NaN         NaN         NaN  \n",
       "1         Ta          Ti           W          Zr          Ni  \n",
       "2          —           —         7.5           —          10  \n",
       "3       1.75         3.4         2.6         0.1        Bal.  "
      ]
     },
     "execution_count": 19,
     "metadata": {},
     "output_type": "execute_result"
    }
   ],
   "source": [
    "xlsx_file = xlsx_files[0]\n",
    "xlsx_feature = pd.read_excel(os.path.join(output_path,xlsx_file), usecols=[0,1,2,3,4,5,6,7,8,9,10,11,12,13]) \n",
    "feature = pd.DataFrame(xlsx_feature)\n",
    "feature"
   ]
  },
  {
   "cell_type": "markdown",
   "metadata": {},
   "source": [
    "## 6.Pipeline（input files: xml and txt files;output:alloy composition and property information）"
   ]
  },
  {
   "cell_type": "markdown",
   "metadata": {},
   "source": [
    "This section combines corpus proprecessing, sentence classification, named entity recognition, relation extraction, table extraction and dependency parse to obtain <article doi, target sentence, alloy name, property, parameters, unit> tuple automatically from xml and txt files."
   ]
  },
  {
   "cell_type": "markdown",
   "metadata": {},
   "source": [
    "Each time run this code, please empty the folder 'output_files' and \"output_tables\", and make the folder \"m_output\" only contains one folder \"full_text\" which doesn't contains any files."
   ]
  },
  {
   "cell_type": "code",
   "execution_count": 2,
   "metadata": {},
   "outputs": [],
   "source": [
    "from pipeline.class_modified import get_extraction_outcome\n",
    "from pipeline.html_parser import Html_parser\n",
    "from pipeline.other_journals import OtherJ\n",
    "from pipeline.table_info_html import GetTInfoFromHtml\n",
    "from pipeline.text_with_table import AcquireAllTargetInfo\n",
    "from pipeline.main import AllCase"
   ]
  },
  {
   "cell_type": "code",
   "execution_count": 2,
   "metadata": {},
   "outputs": [
    {
     "name": "stdout",
     "output_type": "stream",
     "text": [
      "Success: Extracted Tables from 10.1016/j.msea.2014.09.074\n",
      "gather number :8\n",
      "all_text number :4\n"
     ]
    }
   ],
   "source": [
    "# the path of configuration file\n",
    "config_path = r\".\\pipeline\\dictionary.ini\"\n",
    "# target property\n",
    "prop_name = \"solvus\"\n",
    "# the path of folder to storage some intermediate file, before re-running the code each time, you need to ensure that this folder onlyg contains an empty folder named \"full_text\"\n",
    "m_path = r\".\\m_output\"\n",
    "# the path of folder to storage tables information\n",
    "table_save_path = r\".\\output_tables\"\n",
    "# path of final result\n",
    "xml_out_path = r\".\\output_files\\all-attributes.xls\"\n",
    "dependency_out_path = r\".\\output_files\"\n",
    "# path of input files\n",
    "xml_path = \".\\input_xml\"\n",
    "origin_text_path = r\".\\input_txt\"\n",
    "\n",
    "ac = AllCase(config_path, prop_name, dependency_out_path, table_save_path)\n",
    "ac.case_2(xml_path, origin_text_path, xml_out_path, m_path)"
   ]
  },
  {
   "cell_type": "markdown",
   "metadata": {},
   "source": [
    "View the final generated information"
   ]
  },
  {
   "cell_type": "code",
   "execution_count": 3,
   "metadata": {},
   "outputs": [
    {
     "data": {
      "text/plain": [
       "['all-attributes.xls', 'solvus.xlsx']"
      ]
     },
     "execution_count": 3,
     "metadata": {},
     "output_type": "execute_result"
    }
   ],
   "source": [
    "import os\n",
    "import pandas as pd\n",
    "xlsx_files = os.listdir(dependency_out_path)\n",
    "xlsx_files"
   ]
  },
  {
   "cell_type": "markdown",
   "metadata": {},
   "source": [
    "The extracted information is mainly storaged in document of xlsx format."
   ]
  },
  {
   "cell_type": "code",
   "execution_count": 5,
   "metadata": {},
   "outputs": [
    {
     "data": {
      "text/html": [
       "<div>\n",
       "<style scoped>\n",
       "    .dataframe tbody tr th:only-of-type {\n",
       "        vertical-align: middle;\n",
       "    }\n",
       "\n",
       "    .dataframe tbody tr th {\n",
       "        vertical-align: top;\n",
       "    }\n",
       "\n",
       "    .dataframe thead th {\n",
       "        text-align: right;\n",
       "    }\n",
       "</style>\n",
       "<table border=\"1\" class=\"dataframe\">\n",
       "  <thead>\n",
       "    <tr style=\"text-align: right;\">\n",
       "      <th></th>\n",
       "      <th>Source</th>\n",
       "      <th>DOIs</th>\n",
       "      <th>table_topic</th>\n",
       "      <th>material</th>\n",
       "      <th>Property_name</th>\n",
       "      <th>Property_value</th>\n",
       "      <th>Unit</th>\n",
       "      <th>other_element_info</th>\n",
       "    </tr>\n",
       "  </thead>\n",
       "  <tbody>\n",
       "    <tr>\n",
       "      <th>0</th>\n",
       "      <td>table</td>\n",
       "      <td>10.1016/j.msea.2014.09.074</td>\n",
       "      <td>Liquidus, solidus, g'-solvus temperatures and ...</td>\n",
       "      <td>5W</td>\n",
       "      <td>g' solvus</td>\n",
       "      <td>1100</td>\n",
       "      <td>°C</td>\n",
       "      <td>NaN</td>\n",
       "    </tr>\n",
       "    <tr>\n",
       "      <th>1</th>\n",
       "      <td>table</td>\n",
       "      <td>10.1016/j.msea.2014.09.074</td>\n",
       "      <td>Liquidus, solidus, g'-solvus temperatures and ...</td>\n",
       "      <td>Co-7.3Al-6.8W (at%)</td>\n",
       "      <td>g' solvus</td>\n",
       "      <td>854</td>\n",
       "      <td>°C</td>\n",
       "      <td>NaN</td>\n",
       "    </tr>\n",
       "    <tr>\n",
       "      <th>2</th>\n",
       "      <td>table</td>\n",
       "      <td>10.1016/j.msea.2014.09.074</td>\n",
       "      <td>Liquidus, solidus, g'-solvus temperatures and ...</td>\n",
       "      <td>Co-9.2Al-9W (at%)</td>\n",
       "      <td>g' solvus</td>\n",
       "      <td>985</td>\n",
       "      <td>°C</td>\n",
       "      <td>NaN</td>\n",
       "    </tr>\n",
       "    <tr>\n",
       "      <th>3</th>\n",
       "      <td>table</td>\n",
       "      <td>10.1016/j.msea.2014.09.074</td>\n",
       "      <td>Liquidus, solidus, g'-solvus temperatures and ...</td>\n",
       "      <td>Co-8.8Al-9.8W-2Ta (at%)</td>\n",
       "      <td>g' solvus</td>\n",
       "      <td>1079</td>\n",
       "      <td>°C</td>\n",
       "      <td>NaN</td>\n",
       "    </tr>\n",
       "    <tr>\n",
       "      <th>4</th>\n",
       "      <td>table</td>\n",
       "      <td>10.1016/j.msea.2014.09.074</td>\n",
       "      <td>Liquidus, solidus, g'-solvus temperatures and ...</td>\n",
       "      <td>Co-7.3Al-7.2W-20.2Ni (at%)</td>\n",
       "      <td>g' solvus</td>\n",
       "      <td>881</td>\n",
       "      <td>°C</td>\n",
       "      <td>NaN</td>\n",
       "    </tr>\n",
       "    <tr>\n",
       "      <th>5</th>\n",
       "      <td>table</td>\n",
       "      <td>10.1016/j.msea.2014.09.074</td>\n",
       "      <td>Liquidus, solidus, g'-solvus temperatures and ...</td>\n",
       "      <td>Co-7.8Al-7.8W-4.5Cr-2Ta (at%)</td>\n",
       "      <td>g' solvus</td>\n",
       "      <td>960</td>\n",
       "      <td>°C</td>\n",
       "      <td>NaN</td>\n",
       "    </tr>\n",
       "    <tr>\n",
       "      <th>6</th>\n",
       "      <td>table</td>\n",
       "      <td>10.1016/j.msea.2014.09.074</td>\n",
       "      <td>Liquidus, solidus, g'-solvus temperatures and ...</td>\n",
       "      <td>Co-9.9Al-4.8W-1.8Ta (at%)</td>\n",
       "      <td>g' solvus</td>\n",
       "      <td>983</td>\n",
       "      <td>°C</td>\n",
       "      <td>NaN</td>\n",
       "    </tr>\n",
       "    <tr>\n",
       "      <th>7</th>\n",
       "      <td>table</td>\n",
       "      <td>10.1016/j.msea.2014.09.074</td>\n",
       "      <td>Liquidus, solidus, g'-solvus temperatures and ...</td>\n",
       "      <td>CMSX-4</td>\n",
       "      <td>g' solvus</td>\n",
       "      <td>1309</td>\n",
       "      <td>°C</td>\n",
       "      <td>NaN</td>\n",
       "    </tr>\n",
       "    <tr>\n",
       "      <th>8</th>\n",
       "      <td>text</td>\n",
       "      <td>10.1016/j.msea.2014.09.074</td>\n",
       "      <td>NaN</td>\n",
       "      <td>Co-9Al-8W-2Ta-2Cr</td>\n",
       "      <td>solvus</td>\n",
       "      <td>1050</td>\n",
       "      <td>°C</td>\n",
       "      <td>NaN</td>\n",
       "    </tr>\n",
       "    <tr>\n",
       "      <th>9</th>\n",
       "      <td>text</td>\n",
       "      <td>10.1016/j.msea.2014.09.074</td>\n",
       "      <td>NaN</td>\n",
       "      <td>Co-7.8Al-7.8W-2Ta-4.5Cr</td>\n",
       "      <td>solvus</td>\n",
       "      <td>960</td>\n",
       "      <td>°C</td>\n",
       "      <td>NaN</td>\n",
       "    </tr>\n",
       "    <tr>\n",
       "      <th>10</th>\n",
       "      <td>text</td>\n",
       "      <td>10.1016/j.msea.2014.09.074</td>\n",
       "      <td>NaN</td>\n",
       "      <td>Co-9Al-9W</td>\n",
       "      <td>solvus</td>\n",
       "      <td>985</td>\n",
       "      <td>°C</td>\n",
       "      <td>NaN</td>\n",
       "    </tr>\n",
       "    <tr>\n",
       "      <th>11</th>\n",
       "      <td>text</td>\n",
       "      <td>10.1016/j.msea.2014.09.074</td>\n",
       "      <td>NaN</td>\n",
       "      <td>Co-7.3Al-6.8W</td>\n",
       "      <td>solvus</td>\n",
       "      <td>854</td>\n",
       "      <td>°C</td>\n",
       "      <td>NaN</td>\n",
       "    </tr>\n",
       "  </tbody>\n",
       "</table>\n",
       "</div>"
      ],
      "text/plain": [
       "   Source                        DOIs  \\\n",
       "0   table  10.1016/j.msea.2014.09.074   \n",
       "1   table  10.1016/j.msea.2014.09.074   \n",
       "2   table  10.1016/j.msea.2014.09.074   \n",
       "3   table  10.1016/j.msea.2014.09.074   \n",
       "4   table  10.1016/j.msea.2014.09.074   \n",
       "5   table  10.1016/j.msea.2014.09.074   \n",
       "6   table  10.1016/j.msea.2014.09.074   \n",
       "7   table  10.1016/j.msea.2014.09.074   \n",
       "8    text  10.1016/j.msea.2014.09.074   \n",
       "9    text  10.1016/j.msea.2014.09.074   \n",
       "10   text  10.1016/j.msea.2014.09.074   \n",
       "11   text  10.1016/j.msea.2014.09.074   \n",
       "\n",
       "                                          table_topic  \\\n",
       "0   Liquidus, solidus, g'-solvus temperatures and ...   \n",
       "1   Liquidus, solidus, g'-solvus temperatures and ...   \n",
       "2   Liquidus, solidus, g'-solvus temperatures and ...   \n",
       "3   Liquidus, solidus, g'-solvus temperatures and ...   \n",
       "4   Liquidus, solidus, g'-solvus temperatures and ...   \n",
       "5   Liquidus, solidus, g'-solvus temperatures and ...   \n",
       "6   Liquidus, solidus, g'-solvus temperatures and ...   \n",
       "7   Liquidus, solidus, g'-solvus temperatures and ...   \n",
       "8                                                 NaN   \n",
       "9                                                 NaN   \n",
       "10                                                NaN   \n",
       "11                                                NaN   \n",
       "\n",
       "                         material Property_name  Property_value Unit  \\\n",
       "0                              5W     g' solvus            1100   °C   \n",
       "1             Co-7.3Al-6.8W (at%)     g' solvus             854   °C   \n",
       "2               Co-9.2Al-9W (at%)     g' solvus             985   °C   \n",
       "3         Co-8.8Al-9.8W-2Ta (at%)     g' solvus            1079   °C   \n",
       "4      Co-7.3Al-7.2W-20.2Ni (at%)     g' solvus             881   °C   \n",
       "5   Co-7.8Al-7.8W-4.5Cr-2Ta (at%)     g' solvus             960   °C   \n",
       "6       Co-9.9Al-4.8W-1.8Ta (at%)     g' solvus             983   °C   \n",
       "7                          CMSX-4     g' solvus            1309   °C   \n",
       "8               Co-9Al-8W-2Ta-2Cr        solvus            1050   °C   \n",
       "9         Co-7.8Al-7.8W-2Ta-4.5Cr        solvus             960   °C   \n",
       "10                      Co-9Al-9W        solvus             985   °C   \n",
       "11                  Co-7.3Al-6.8W        solvus             854   °C   \n",
       "\n",
       "    other_element_info  \n",
       "0                  NaN  \n",
       "1                  NaN  \n",
       "2                  NaN  \n",
       "3                  NaN  \n",
       "4                  NaN  \n",
       "5                  NaN  \n",
       "6                  NaN  \n",
       "7                  NaN  \n",
       "8                  NaN  \n",
       "9                  NaN  \n",
       "10                 NaN  \n",
       "11                 NaN  "
      ]
     },
     "execution_count": 5,
     "metadata": {},
     "output_type": "execute_result"
    }
   ],
   "source": [
    "xlsx_file = xlsx_files[1]\n",
    "xlsx_feature = pd.read_excel(os.path.join(dependency_out_path,xlsx_file), usecols=[0,1,2,3,4,5,6,7]) \n",
    "feature = pd.DataFrame(xlsx_feature)\n",
    "feature"
   ]
  },
  {
   "cell_type": "markdown",
   "metadata": {},
   "source": [
    "## 7.Pipeline（input files: html files and doi;output:alloy composition and property information）"
   ]
  },
  {
   "cell_type": "markdown",
   "metadata": {},
   "source": [
    "This section combines corpus proprecessing, sentence classification, named entity recognition, relation extraction, table extraction and dependency parse to obtain <article doi, target sentence, alloy name, property, parameters, unit> tuple automatically from html files."
   ]
  },
  {
   "cell_type": "markdown",
   "metadata": {},
   "source": [
    "Each time run this code, please empty the folder 'output_files' and \"output_tables\", and make the folder \"m_output\" only contains one folder \"full_text\" that doesn't contains any files."
   ]
  },
  {
   "cell_type": "code",
   "execution_count": 1,
   "metadata": {},
   "outputs": [],
   "source": [
    "from table_extractor.web_other_journals_html.get_tifo_from_html import GetTableHtml\n",
    "import os\n",
    "import pandas as pd\n",
    "from pipeline.class_modified import get_extraction_outcome\n",
    "from pipeline.html_parser import Html_parser\n",
    "from pipeline.other_journals import OtherJ\n",
    "from pipeline.table_info_html import GetTInfoFromHtml\n",
    "from pipeline.text_with_table import AcquireAllTargetInfo\n",
    "from pipeline.main import AllCase"
   ]
  },
  {
   "cell_type": "code",
   "execution_count": 3,
   "metadata": {},
   "outputs": [
    {
     "name": "stdout",
     "output_type": "stream",
     "text": [
      "/article/10.1007/s11837-014-1181-y/tables/1\n",
      "/article/10.1007/s11837-014-1181-y/tables/2\n",
      "/article/10.1007/s11837-014-1181-y/tables/3\n",
      "['https://link.springer.com/article/10.1007/s11837-014-1181-y/tables/1', 'https://link.springer.com/article/10.1007/s11837-014-1181-y/tables/2', 'https://link.springer.com/article/10.1007/s11837-014-1181-y/tables/3']\n",
      "Start crawling the page\n",
      "complete!\n",
      "Start crawling the page\n",
      "complete!\n",
      "Start crawling the page\n",
      "complete!\n",
      "****************************************************************************************************\n",
      "[]\n",
      "gather number :9\n",
      "all_text number :8\n"
     ]
    }
   ],
   "source": [
    "# the path of configuration file\n",
    "config_path = r\".\\pipeline\\dictionary.ini\"\n",
    "# target property\n",
    "prop_name = \"solvus\"\n",
    "# the path of folder to storage some intermediate file, before re-running the code each time, you need to ensure that this folder onlyg contains an empty folder named \"full_text\"\n",
    "m_path = r\".\\m_output\"\n",
    "# the path of folder to storage tables information\n",
    "table_save_path = r\".\\output_tables\"\n",
    "# path of final result\n",
    "dependency_out_path = r\".\\output_files\"\n",
    "out_path = r\".\\output_files\\all-attributes.xls\"\n",
    "# doi of article\n",
    "doi = \"10.1007/s11837-014-1181-y\"\n",
    "# path of input html files\n",
    "html_path = r'.\\input_html'\n",
    "# name of journal,it depends on the journal html files downloaded from\n",
    "journal = \"Springer\"\n",
    "# path of folder to storage full text information of article\n",
    "out_path_txt = r\".\\txt_from_html\"\n",
    "\n",
    "ac = AllCase(config_path, prop_name, dependency_out_path, table_save_path)\n",
    "ac.case_3(doi, html_path, journal, out_path_txt, out_path, m_path)"
   ]
  },
  {
   "cell_type": "markdown",
   "metadata": {},
   "source": [
    "View the generated information"
   ]
  },
  {
   "cell_type": "code",
   "execution_count": 4,
   "metadata": {},
   "outputs": [
    {
     "data": {
      "text/plain": [
       "['all-attributes.xls', 'solvus.xlsx']"
      ]
     },
     "execution_count": 4,
     "metadata": {},
     "output_type": "execute_result"
    }
   ],
   "source": [
    "import os\n",
    "import pandas as pd\n",
    "xlsx_files = os.listdir(dependency_out_path)\n",
    "xlsx_files"
   ]
  },
  {
   "cell_type": "markdown",
   "metadata": {},
   "source": [
    "The extracted information is mainly storaged in document of xlsx format."
   ]
  },
  {
   "cell_type": "code",
   "execution_count": 6,
   "metadata": {},
   "outputs": [
    {
     "data": {
      "text/html": [
       "<div>\n",
       "<style scoped>\n",
       "    .dataframe tbody tr th:only-of-type {\n",
       "        vertical-align: middle;\n",
       "    }\n",
       "\n",
       "    .dataframe tbody tr th {\n",
       "        vertical-align: top;\n",
       "    }\n",
       "\n",
       "    .dataframe thead th {\n",
       "        text-align: right;\n",
       "    }\n",
       "</style>\n",
       "<table border=\"1\" class=\"dataframe\">\n",
       "  <thead>\n",
       "    <tr style=\"text-align: right;\">\n",
       "      <th></th>\n",
       "      <th>Source</th>\n",
       "      <th>DOIs</th>\n",
       "      <th>table_topic</th>\n",
       "      <th>material</th>\n",
       "      <th>Property_name</th>\n",
       "      <th>Property_value</th>\n",
       "      <th>Unit</th>\n",
       "      <th>other_element_info</th>\n",
       "      <th>other_property_info</th>\n",
       "      <th>child_tag</th>\n",
       "    </tr>\n",
       "  </thead>\n",
       "  <tbody>\n",
       "    <tr>\n",
       "      <th>0</th>\n",
       "      <td>table</td>\n",
       "      <td>10.1007/s11837-014-1181-y</td>\n",
       "      <td>Table I Nominal compositions in at.% and &lt;i&gt;γ&lt;...</td>\n",
       "      <td>Base alloy</td>\n",
       "      <td>γ′ solvus temperature (°C)</td>\n",
       "      <td>919.0</td>\n",
       "      <td>°C</td>\n",
       "      <td>NaN</td>\n",
       "      <td>{'Group': 'I', 'Alloy': 'Base alloy', 'Co': 'B...</td>\n",
       "      <td>NaN</td>\n",
       "    </tr>\n",
       "    <tr>\n",
       "      <th>1</th>\n",
       "      <td>table</td>\n",
       "      <td>10.1007/s11837-014-1181-y</td>\n",
       "      <td>Table I Nominal compositions in at.% and &lt;i&gt;γ&lt;...</td>\n",
       "      <td>Alloy Ta</td>\n",
       "      <td>γ′ solvus temperature (°C)</td>\n",
       "      <td>998.0</td>\n",
       "      <td>°C</td>\n",
       "      <td>NaN</td>\n",
       "      <td>{'Group': 'I', 'Alloy': 'Alloy Ta', 'Co': 'Bal...</td>\n",
       "      <td>NaN</td>\n",
       "    </tr>\n",
       "    <tr>\n",
       "      <th>2</th>\n",
       "      <td>table</td>\n",
       "      <td>10.1007/s11837-014-1181-y</td>\n",
       "      <td>Table I Nominal compositions in at.% and &lt;i&gt;γ&lt;...</td>\n",
       "      <td>Alloy Ti</td>\n",
       "      <td>γ′ solvus temperature (°C)</td>\n",
       "      <td>1070.0</td>\n",
       "      <td>°C</td>\n",
       "      <td>NaN</td>\n",
       "      <td>{'Group': 'I', 'Alloy': 'Alloy Ti', 'Co': 'Bal...</td>\n",
       "      <td>NaN</td>\n",
       "    </tr>\n",
       "    <tr>\n",
       "      <th>3</th>\n",
       "      <td>table</td>\n",
       "      <td>10.1007/s11837-014-1181-y</td>\n",
       "      <td>Table I Nominal compositions in at.% and &lt;i&gt;γ&lt;...</td>\n",
       "      <td>Alloy TaTi</td>\n",
       "      <td>γ′ solvus temperature (°C)</td>\n",
       "      <td>113116.0</td>\n",
       "      <td>°C</td>\n",
       "      <td>NaN</td>\n",
       "      <td>{'Group': 'I', 'Alloy': 'Alloy TaTi', 'Co': 'B...</td>\n",
       "      <td>NaN</td>\n",
       "    </tr>\n",
       "    <tr>\n",
       "      <th>4</th>\n",
       "      <td>table</td>\n",
       "      <td>10.1007/s11837-014-1181-y</td>\n",
       "      <td>Table I Nominal compositions in at.% and &lt;i&gt;γ&lt;...</td>\n",
       "      <td>Alloy TaTi-A</td>\n",
       "      <td>γ′ solvus temperature (°C)</td>\n",
       "      <td>1097.0</td>\n",
       "      <td>°C</td>\n",
       "      <td>NaN</td>\n",
       "      <td>{'Group': 'II', 'Alloy': 'Alloy TaTi-A', 'Co':...</td>\n",
       "      <td>NaN</td>\n",
       "    </tr>\n",
       "    <tr>\n",
       "      <th>5</th>\n",
       "      <td>table</td>\n",
       "      <td>10.1007/s11837-014-1181-y</td>\n",
       "      <td>Table I Nominal compositions in at.% and &lt;i&gt;γ&lt;...</td>\n",
       "      <td>Alloy TaTi-B</td>\n",
       "      <td>γ′ solvus temperature (°C)</td>\n",
       "      <td>1131.0</td>\n",
       "      <td>°C</td>\n",
       "      <td>NaN</td>\n",
       "      <td>{'Group': 'II', 'Alloy': 'Alloy TaTi-B', 'Co':...</td>\n",
       "      <td>NaN</td>\n",
       "    </tr>\n",
       "    <tr>\n",
       "      <th>6</th>\n",
       "      <td>table</td>\n",
       "      <td>10.1007/s11837-014-1181-y</td>\n",
       "      <td>Table I Nominal compositions in at.% and &lt;i&gt;γ&lt;...</td>\n",
       "      <td>Alloy TaTi-C</td>\n",
       "      <td>γ′ solvus temperature (°C)</td>\n",
       "      <td>115716.0</td>\n",
       "      <td>°C</td>\n",
       "      <td>NaN</td>\n",
       "      <td>{'Group': 'II', 'Alloy': 'Alloy TaTi-C', 'Co':...</td>\n",
       "      <td>NaN</td>\n",
       "    </tr>\n",
       "    <tr>\n",
       "      <th>7</th>\n",
       "      <td>table</td>\n",
       "      <td>10.1007/s11837-014-1181-y</td>\n",
       "      <td>Table I Nominal compositions in at.% and &lt;i&gt;γ&lt;...</td>\n",
       "      <td>Alloy TaTi-D</td>\n",
       "      <td>γ′ solvus temperature (°C)</td>\n",
       "      <td>1184.0</td>\n",
       "      <td>°C</td>\n",
       "      <td>NaN</td>\n",
       "      <td>{'Group': 'II', 'Alloy': 'Alloy TaTi-D', 'Co':...</td>\n",
       "      <td>NaN</td>\n",
       "    </tr>\n",
       "    <tr>\n",
       "      <th>8</th>\n",
       "      <td>table</td>\n",
       "      <td>10.1007/s11837-014-1181-y</td>\n",
       "      <td>Table I Nominal compositions in at.% and &lt;i&gt;γ&lt;...</td>\n",
       "      <td>Alloy TaTi-E</td>\n",
       "      <td>γ′ solvus temperature (°C)</td>\n",
       "      <td>1146.0</td>\n",
       "      <td>°C</td>\n",
       "      <td>NaN</td>\n",
       "      <td>{'Group': 'II', 'Alloy': 'Alloy TaTi-E', 'Co':...</td>\n",
       "      <td>NaN</td>\n",
       "    </tr>\n",
       "    <tr>\n",
       "      <th>9</th>\n",
       "      <td>text</td>\n",
       "      <td>10.1007/s11837-014-1181-y</td>\n",
       "      <td>NaN</td>\n",
       "      <td>Co-Al-W-base</td>\n",
       "      <td>solvus</td>\n",
       "      <td>1100.0</td>\n",
       "      <td>°C</td>\n",
       "      <td>NaN</td>\n",
       "      <td>NaN</td>\n",
       "      <td>NaN</td>\n",
       "    </tr>\n",
       "    <tr>\n",
       "      <th>10</th>\n",
       "      <td>text</td>\n",
       "      <td>10.1007/s11837-014-1181-y</td>\n",
       "      <td>NaN</td>\n",
       "      <td>TaTi-A</td>\n",
       "      <td>solvus</td>\n",
       "      <td>1097.0</td>\n",
       "      <td>°C</td>\n",
       "      <td>NaN</td>\n",
       "      <td>NaN</td>\n",
       "      <td>NaN</td>\n",
       "    </tr>\n",
       "    <tr>\n",
       "      <th>11</th>\n",
       "      <td>text</td>\n",
       "      <td>10.1007/s11837-014-1181-y</td>\n",
       "      <td>NaN</td>\n",
       "      <td>TaTi-C</td>\n",
       "      <td>solvus</td>\n",
       "      <td>1157.0</td>\n",
       "      <td>°C</td>\n",
       "      <td>NaN</td>\n",
       "      <td>NaN</td>\n",
       "      <td>NaN</td>\n",
       "    </tr>\n",
       "    <tr>\n",
       "      <th>12</th>\n",
       "      <td>text</td>\n",
       "      <td>10.1007/s11837-014-1181-y</td>\n",
       "      <td>NaN</td>\n",
       "      <td>TaTi-E</td>\n",
       "      <td>solvus</td>\n",
       "      <td>1146.0</td>\n",
       "      <td>°C</td>\n",
       "      <td>NaN</td>\n",
       "      <td>NaN</td>\n",
       "      <td>NaN</td>\n",
       "    </tr>\n",
       "    <tr>\n",
       "      <th>13</th>\n",
       "      <td>text</td>\n",
       "      <td>10.1007/s11837-014-1181-y</td>\n",
       "      <td>NaN</td>\n",
       "      <td>Ti</td>\n",
       "      <td>solvus</td>\n",
       "      <td>1000.0</td>\n",
       "      <td>°C</td>\n",
       "      <td>NaN</td>\n",
       "      <td>NaN</td>\n",
       "      <td>NaN</td>\n",
       "    </tr>\n",
       "    <tr>\n",
       "      <th>14</th>\n",
       "      <td>text</td>\n",
       "      <td>10.1007/s11837-014-1181-y</td>\n",
       "      <td>NaN</td>\n",
       "      <td>TaTi</td>\n",
       "      <td>solvus</td>\n",
       "      <td>900.0</td>\n",
       "      <td>°C</td>\n",
       "      <td>NaN</td>\n",
       "      <td>NaN</td>\n",
       "      <td>NaN</td>\n",
       "    </tr>\n",
       "    <tr>\n",
       "      <th>15</th>\n",
       "      <td>text</td>\n",
       "      <td>10.1007/s11837-014-1181-y</td>\n",
       "      <td>NaN</td>\n",
       "      <td>TaTi</td>\n",
       "      <td>aging</td>\n",
       "      <td>1050.0</td>\n",
       "      <td>°C</td>\n",
       "      <td>NaN</td>\n",
       "      <td>NaN</td>\n",
       "      <td>NaN</td>\n",
       "    </tr>\n",
       "    <tr>\n",
       "      <th>16</th>\n",
       "      <td>text</td>\n",
       "      <td>10.1007/s11837-014-1181-y</td>\n",
       "      <td>NaN</td>\n",
       "      <td>Co-Al-W-Ta-Ti</td>\n",
       "      <td>solvus</td>\n",
       "      <td>900.0</td>\n",
       "      <td>°C</td>\n",
       "      <td>NaN</td>\n",
       "      <td>NaN</td>\n",
       "      <td>NaN</td>\n",
       "    </tr>\n",
       "  </tbody>\n",
       "</table>\n",
       "</div>"
      ],
      "text/plain": [
       "   Source                       DOIs  \\\n",
       "0   table  10.1007/s11837-014-1181-y   \n",
       "1   table  10.1007/s11837-014-1181-y   \n",
       "2   table  10.1007/s11837-014-1181-y   \n",
       "3   table  10.1007/s11837-014-1181-y   \n",
       "4   table  10.1007/s11837-014-1181-y   \n",
       "5   table  10.1007/s11837-014-1181-y   \n",
       "6   table  10.1007/s11837-014-1181-y   \n",
       "7   table  10.1007/s11837-014-1181-y   \n",
       "8   table  10.1007/s11837-014-1181-y   \n",
       "9    text  10.1007/s11837-014-1181-y   \n",
       "10   text  10.1007/s11837-014-1181-y   \n",
       "11   text  10.1007/s11837-014-1181-y   \n",
       "12   text  10.1007/s11837-014-1181-y   \n",
       "13   text  10.1007/s11837-014-1181-y   \n",
       "14   text  10.1007/s11837-014-1181-y   \n",
       "15   text  10.1007/s11837-014-1181-y   \n",
       "16   text  10.1007/s11837-014-1181-y   \n",
       "\n",
       "                                          table_topic       material  \\\n",
       "0   Table I Nominal compositions in at.% and <i>γ<...     Base alloy   \n",
       "1   Table I Nominal compositions in at.% and <i>γ<...       Alloy Ta   \n",
       "2   Table I Nominal compositions in at.% and <i>γ<...       Alloy Ti   \n",
       "3   Table I Nominal compositions in at.% and <i>γ<...     Alloy TaTi   \n",
       "4   Table I Nominal compositions in at.% and <i>γ<...   Alloy TaTi-A   \n",
       "5   Table I Nominal compositions in at.% and <i>γ<...   Alloy TaTi-B   \n",
       "6   Table I Nominal compositions in at.% and <i>γ<...   Alloy TaTi-C   \n",
       "7   Table I Nominal compositions in at.% and <i>γ<...   Alloy TaTi-D   \n",
       "8   Table I Nominal compositions in at.% and <i>γ<...   Alloy TaTi-E   \n",
       "9                                                 NaN   Co-Al-W-base   \n",
       "10                                                NaN         TaTi-A   \n",
       "11                                                NaN         TaTi-C   \n",
       "12                                                NaN         TaTi-E   \n",
       "13                                                NaN             Ti   \n",
       "14                                                NaN           TaTi   \n",
       "15                                                NaN           TaTi   \n",
       "16                                                NaN  Co-Al-W-Ta-Ti   \n",
       "\n",
       "                 Property_name  Property_value Unit  other_element_info  \\\n",
       "0   γ′ solvus temperature (°C)           919.0   °C                 NaN   \n",
       "1   γ′ solvus temperature (°C)           998.0   °C                 NaN   \n",
       "2   γ′ solvus temperature (°C)          1070.0   °C                 NaN   \n",
       "3   γ′ solvus temperature (°C)        113116.0   °C                 NaN   \n",
       "4   γ′ solvus temperature (°C)          1097.0   °C                 NaN   \n",
       "5   γ′ solvus temperature (°C)          1131.0   °C                 NaN   \n",
       "6   γ′ solvus temperature (°C)        115716.0   °C                 NaN   \n",
       "7   γ′ solvus temperature (°C)          1184.0   °C                 NaN   \n",
       "8   γ′ solvus temperature (°C)          1146.0   °C                 NaN   \n",
       "9                       solvus          1100.0   °C                 NaN   \n",
       "10                      solvus          1097.0   °C                 NaN   \n",
       "11                      solvus          1157.0   °C                 NaN   \n",
       "12                      solvus          1146.0   °C                 NaN   \n",
       "13                      solvus          1000.0   °C                 NaN   \n",
       "14                      solvus           900.0   °C                 NaN   \n",
       "15                       aging          1050.0   °C                 NaN   \n",
       "16                      solvus           900.0   °C                 NaN   \n",
       "\n",
       "                                  other_property_info  child_tag  \n",
       "0   {'Group': 'I', 'Alloy': 'Base alloy', 'Co': 'B...        NaN  \n",
       "1   {'Group': 'I', 'Alloy': 'Alloy Ta', 'Co': 'Bal...        NaN  \n",
       "2   {'Group': 'I', 'Alloy': 'Alloy Ti', 'Co': 'Bal...        NaN  \n",
       "3   {'Group': 'I', 'Alloy': 'Alloy TaTi', 'Co': 'B...        NaN  \n",
       "4   {'Group': 'II', 'Alloy': 'Alloy TaTi-A', 'Co':...        NaN  \n",
       "5   {'Group': 'II', 'Alloy': 'Alloy TaTi-B', 'Co':...        NaN  \n",
       "6   {'Group': 'II', 'Alloy': 'Alloy TaTi-C', 'Co':...        NaN  \n",
       "7   {'Group': 'II', 'Alloy': 'Alloy TaTi-D', 'Co':...        NaN  \n",
       "8   {'Group': 'II', 'Alloy': 'Alloy TaTi-E', 'Co':...        NaN  \n",
       "9                                                 NaN        NaN  \n",
       "10                                                NaN        NaN  \n",
       "11                                                NaN        NaN  \n",
       "12                                                NaN        NaN  \n",
       "13                                                NaN        NaN  \n",
       "14                                                NaN        NaN  \n",
       "15                                                NaN        NaN  \n",
       "16                                                NaN        NaN  "
      ]
     },
     "execution_count": 6,
     "metadata": {},
     "output_type": "execute_result"
    }
   ],
   "source": [
    "xlsx_file = xlsx_files[1]\n",
    "xlsx_feature = pd.read_excel(os.path.join(dependency_out_path,xlsx_file), usecols=[0,1,2,3,4,5,6,7,8,9]) \n",
    "feature = pd.DataFrame(xlsx_feature)\n",
    "feature"
   ]
  },
  {
   "cell_type": "code",
   "execution_count": null,
   "metadata": {},
   "outputs": [],
   "source": []
  }
 ],
 "metadata": {
  "kernelspec": {
   "display_name": "Python (iloveanze)",
   "language": "python",
   "name": "iloveanze"
  },
  "language_info": {
   "codemirror_mode": {
    "name": "ipython",
    "version": 3
   },
   "file_extension": ".py",
   "mimetype": "text/x-python",
   "name": "python",
   "nbconvert_exporter": "python",
   "pygments_lexer": "ipython3",
   "version": "3.8.13"
  }
 },
 "nbformat": 4,
 "nbformat_minor": 4
}
