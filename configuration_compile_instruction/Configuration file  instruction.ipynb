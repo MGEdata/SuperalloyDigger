{
 "cells": [
  {
   "cell_type": "markdown",
   "metadata": {},
   "source": [
    "# SuperalloyDigger configuration file(dictionary.ini) instruction"
   ]
  },
  {
   "cell_type": "markdown",
   "metadata": {},
   "source": [
    "The rule in the configuration file(dictionary.ini) file plays an important role in Superalloydigger tool. When you need to use the tool for other field, all you need to do is to modify the rule in the configuration file based on your own domain knowledge. The rule directly affects the accuracy of information extracted by the tool, so rules are best made by experts in corresponding materials fields. Different rules may work in different parts of the data extraction pipeline. Here we provided the user with an example sentence for understanding the content of each rule in the dictionary.ini and show you how to modify it in detail. "
   ]
  },
  {
   "cell_type": "markdown",
   "metadata": {},
   "source": [
    "In order to illustrate them more clearly, we divided all rules you may modify into four parts, including \"1. Preprocessing rule for text\", \"2. Entity recognition rule for text\", \"3. Preprocessing rule for table\", and \"4. Entity recogniton rule for table\". Two of the the rules act on text and the other two act on table. All the rules are used for corpus preprocessing and named entity recognition respectively."
   ]
  },
  {
   "cell_type": "markdown",
   "metadata": {},
   "source": [
    "Here we provide some example sentences to illustrate and demonstrate how the rules in dictionary.ini works in the tool."
   ]
  },
  {
   "cell_type": "markdown",
   "metadata": {},
   "source": [
    "## 1. Preprocessing rule for text"
   ]
  },
  {
   "cell_type": "markdown",
   "metadata": {},
   "source": [
    "### 1.1 paras_to_replace"
   ]
  },
  {
   "cell_type": "markdown",
   "metadata": {},
   "source": [
    "The rule is used for processing special phrases (contains parameter and unit) in sentences and the format of this rule can be represented as {'A':['B','C']}. Any phrase matched by rule A will be viewed as a processing object. In these processing objects, the sub-phrase matched by rule B will be replaced by string C.\n",
    "Attention: A and B need to be rules, and C need to be a string."
   ]
  },
  {
   "cell_type": "code",
   "execution_count": 3,
   "metadata": {},
   "outputs": [],
   "source": [
    "import re\n",
    "from dictionary import Dictionary\n",
    "\n",
    "dict_info = Dictionary(\"dictionary.ini\")"
   ]
  },
  {
   "cell_type": "code",
   "execution_count": 4,
   "metadata": {},
   "outputs": [
    {
     "data": {
      "text/plain": [
       "{'\\\\s[0-9]+\\\\s+C': ['\\\\s+C', '°C'],\n",
       " '[0-9]+\\\\s+°C': ['\\\\s+', ''],\n",
       " '[0-9]+\\\\s+K': ['\\\\s+K', 'K'],\n",
       " '\\\\s+±\\\\s+': ['\\\\s+', ''],\n",
       " '\\\\s+–\\\\s+': ['\\\\s+', ''],\n",
       " '[0-9]+\\\\s+g/cm3': ['\\\\s+g/cm3', 'g/cm3'],\n",
       " '\\\\d\\\\s+%': ['\\\\s+%', '%'],\n",
       " '\\\\d\\\\s?K\\\\s?\\\\(\\\\d+\\\\s?\\\\°C\\\\)': ['\\\\(\\\\d+\\\\s?\\\\°C\\\\)', ''],\n",
       " '\\\\d\\\\s?°C\\\\s?\\\\(\\\\d+\\\\s?K\\\\)': ['\\\\(\\\\d+\\\\s?K\\\\)', '']}"
      ]
     },
     "execution_count": 4,
     "metadata": {},
     "output_type": "execute_result"
    }
   ],
   "source": [
    "paras_to_replace = dict_info.paras_to_replace \n",
    "paras_to_replace "
   ]
  },
  {
   "cell_type": "code",
   "execution_count": 5,
   "metadata": {},
   "outputs": [],
   "source": [
    "sentence = \"The γ′ solvus temperature of NR6 alloy is around 1175 °C, the mean grain size measured after this supersolvus solution treatment is about 26 μm.\""
   ]
  },
  {
   "cell_type": "code",
   "execution_count": 7,
   "metadata": {},
   "outputs": [
    {
     "data": {
      "text/plain": [
       "'The γ′ solvus temperature of NR6 alloy is around 1175°C, the mean grain size measured after this supersolvus solution treatment is about 26 μm.'"
      ]
     },
     "execution_count": 7,
     "metadata": {},
     "output_type": "execute_result"
    }
   ],
   "source": [
    "for para_model, change_place in paras_to_replace.items():\n",
    "    paras_all = re.findall(para_model, sentence)\n",
    "    for para in paras_all:\n",
    "        find_word = re.findall(change_place[0], para)\n",
    "        para_out = para.replace(find_word[0], change_place[1])\n",
    "        sentence = sentence.replace(para, para_out)\n",
    "sentence"
   ]
  },
  {
   "cell_type": "markdown",
   "metadata": {},
   "source": [
    "As you can see, the blank between \"1175\" and \"°C\" is removed. Since the subsequent named entity recognition is performed on the result of sentence tokenization, the preprocessing step can help recognize phrase entities in sentences."
   ]
  },
  {
   "cell_type": "markdown",
   "metadata": {},
   "source": [
    "### 1.2 replace_word"
   ]
  },
  {
   "cell_type": "markdown",
   "metadata": {},
   "source": [
    "The format of this rule can be represented as {'A':'B'}. Any string A in the sentence will be replaced by string B.\n",
    "Attention: A and B need to be strings."
   ]
  },
  {
   "cell_type": "code",
   "execution_count": 8,
   "metadata": {},
   "outputs": [
    {
     "data": {
      "text/plain": [
       "{'Fig .': 'fig ',\n",
       " 'Fig.': 'fig',\n",
       " 'fig.': 'fig',\n",
       " 'et al.': 'et al',\n",
       " '℃': '°C',\n",
       " '˚C': '°C',\n",
       " 'g cm−3': 'g/cm3',\n",
       " 'gm/cc': 'g/cm3',\n",
       " 'g cm3': 'g/cm3',\n",
       " '–': '-',\n",
       " 'L12': 'γ′',\n",
       " 'incipient melting': 'incipient-melting',\n",
       " \"γ'\": 'γ′',\n",
       " 'gamma prime': 'γ′',\n",
       " '™': 'TM',\n",
       " '<': '＜',\n",
       " '>': '＞',\n",
       " '＞ ': '＞',\n",
       " ' ＜': '＜',\n",
       " 'solution heat': 'solution-heat',\n",
       " 'Co3 ( Al , W )': 'γ′',\n",
       " 'h.': 'h .',\n",
       " 'Co3(Al,W)': 'γ′'}"
      ]
     },
     "execution_count": 8,
     "metadata": {},
     "output_type": "execute_result"
    }
   ],
   "source": [
    "from dictionary import Dictionary\n",
    "\n",
    "dict_info = Dictionary(\"dictionary.ini\")\n",
    "replace_word = dict_info.replace_word\n",
    "replace_word"
   ]
  },
  {
   "cell_type": "code",
   "execution_count": 9,
   "metadata": {},
   "outputs": [],
   "source": [
    "sentence = \"However, the higher relative density observed in the alloy sintered at 1200 °C, is attributed to the good densification of the alloy; this is close to the theoretical density of 7.894 g cm−3.\""
   ]
  },
  {
   "cell_type": "code",
   "execution_count": 10,
   "metadata": {},
   "outputs": [
    {
     "data": {
      "text/plain": [
       "'However, the higher relative density observed in the alloy sintered at 1200 °C, is attributed to the good densification of the alloy; this is close to the theoretical density of 7.894 g/cm3.'"
      ]
     },
     "execution_count": 10,
     "metadata": {},
     "output_type": "execute_result"
    }
   ],
   "source": [
    "for old_word, new_word in replace_word.items():\n",
    "    sentence = sentence.replace(old_word, new_word)\n",
    "sentence"
   ]
  },
  {
   "cell_type": "markdown",
   "metadata": {},
   "source": [
    "As you can see, the string \"g cm−3\" in the sentence has been replaced by \"g/cm3\". Since the subsequent named entity recognition is performed on the result of sentence tokenization, the preprocessing step can help recognize phrase entities in sentences."
   ]
  },
  {
   "cell_type": "markdown",
   "metadata": {},
   "source": [
    "### 1.3 alloy_to_replace"
   ]
  },
  {
   "cell_type": "markdown",
   "metadata": {},
   "source": [
    "The rule is used for processing special phrases (contains alloy name or designation) in sentence and the format of this rule can be represented as {'A':['B','C']}. Any phrase matched by rule A will be viewed as a processing object. In these processing objects, the sub-phrase matched by rule B will be replaced by string C.\n",
    "Attention: A and B need to be rules, and C needs to be a string."
   ]
  },
  {
   "cell_type": "code",
   "execution_count": 11,
   "metadata": {},
   "outputs": [
    {
     "data": {
      "text/plain": [
       "{'\\\\s([A-Z]+[a-z]*\\\\s+[A-Z]*[0-9]{2,}[A-Z]*)\\\\s': ['\\\\s+', '~'],\n",
       " '\\\\s([A-Z][a-z]?[0-9]{0,2}\\\\.?[0-9]{0,2}\\\\s+[A-Z][a-z]?\\\\S*)\\\\s': ['\\\\s+',\n",
       "  ''],\n",
       " '\\\\s([A-Z]+[a-z]{1,}\\\\s+[A-Z]+\\\\-?[0-9]+)\\\\s': ['\\\\s+', '~'],\n",
       " '\\\\s([A-Z]+[a-z]{1,}\\\\s+\\\\d+\\\\-?\\\\d*[A-Za-z]+)\\\\s': ['\\\\s+', '~'],\n",
       " '\\\\s([0-9]+\\\\.?[0-9]*\\\\s+[A-Z][a-z]?)\\\\s': ['\\\\s+', '']}"
      ]
     },
     "execution_count": 11,
     "metadata": {},
     "output_type": "execute_result"
    }
   ],
   "source": [
    "from dictionary import Dictionary\n",
    "\n",
    "dict_info = Dictionary(\"dictionary.ini\")\n",
    "alloy_to_replace = dict_info.alloy_to_replace\n",
    "alloy_to_replace"
   ]
  },
  {
   "cell_type": "code",
   "execution_count": 12,
   "metadata": {},
   "outputs": [],
   "source": [
    "sentence = \"Moreover , the computed γ′ solvus of TMW-4M3 and Alloy 720Li is 1194 °C and 1163 °C .\""
   ]
  },
  {
   "cell_type": "code",
   "execution_count": 13,
   "metadata": {},
   "outputs": [
    {
     "data": {
      "text/plain": [
       "'Moreover , the computed γ′ solvus of TMW-4M3 and Alloy~720Li is 1194 °C and 1163 °C .'"
      ]
     },
     "execution_count": 13,
     "metadata": {},
     "output_type": "execute_result"
    }
   ],
   "source": [
    "for alloy_model, replace in alloy_to_replace.items():\n",
    "    alloy_part = re.findall(alloy_model, sentence)\n",
    "    for alloy in alloy_part:\n",
    "        find_part = re.findall(replace[0], alloy)\n",
    "        alloy_out = alloy.replace(find_part[0], replace[1])\n",
    "        sentence = sentence.replace(alloy, alloy_out)\n",
    "sentence"
   ]
  },
  {
   "cell_type": "markdown",
   "metadata": {},
   "source": [
    "As you can see, the string \"Alloy 720Li\" in the sentence has been replaced by \"Alloy~720Li\". Since the subsequent named entity recognition is performed on the result of sentence tokenization, the preprocessing step can help recognize phrase entities in sentences."
   ]
  },
  {
   "cell_type": "markdown",
   "metadata": {},
   "source": [
    "### 1.4 no_unit_para and unit_replace"
   ]
  },
  {
   "cell_type": "markdown",
   "metadata": {},
   "source": [
    "no_unit_para rule and unit_replace rule are used for adding unit to the after part of parameters without a unit in the sentence.The format of no_unit_para rule can be represented as {'property_name':['A','B',..]}, and the format of unit_replace can be represented as {'property_name':['A','B',...]}. As for the no_unit_para rule, any word matched by rule A/rule B... will be viewed as no unit parameters. Then the unit strings of A, B... will be checked one by one to see if they exist in the sentence. During the check process, once a unit string is found in a sentence, the process break and add this unit string to the after part of no unit parameters."
   ]
  },
  {
   "cell_type": "code",
   "execution_count": 14,
   "metadata": {},
   "outputs": [],
   "source": [
    "from dictionary import Dictionary\n",
    "import nltk\n",
    "\n",
    "dict_info = Dictionary(\"dictionary.ini\")\n",
    "no_unit_para = dict_info.no_unit_para\n",
    "unit_replace = dict_info.unit_replace\n",
    "prop_name = 'solvus'"
   ]
  },
  {
   "cell_type": "code",
   "execution_count": 15,
   "metadata": {},
   "outputs": [
    {
     "data": {
      "text/plain": [
       "{'solvus': ['^\\\\W{0,1}[7-9][0-9]\\\\S*\\\\d$', '^\\\\W{0,1}1[0-6][0-9]\\\\S*\\\\d$'],\n",
       " 'solidus': ['^\\\\W{0,1}[7-9][0-9]\\\\S*\\\\d$', '^\\\\W{0,1}1[0-6][0-9]\\\\S*\\\\d$'],\n",
       " 'density': ['^\\\\W?[4-9]\\\\.[0-9]{1,2}(\\\\S\\\\d\\\\.\\\\d{2})?$|^\\\\W?1[0,1]\\\\.[0-9]{1,2}(\\\\S\\\\d\\\\.\\\\d{2})?$'],\n",
       " 'liquidus': ['^\\\\W{0,1}[7-9][0-9]\\\\S*\\\\d$', '^\\\\W{0,1}1[0-6][0-9]\\\\S*\\\\d$']}"
      ]
     },
     "execution_count": 15,
     "metadata": {},
     "output_type": "execute_result"
    }
   ],
   "source": [
    "no_unit_para"
   ]
  },
  {
   "cell_type": "code",
   "execution_count": 16,
   "metadata": {},
   "outputs": [
    {
     "data": {
      "text/plain": [
       "{'solidus': ['°C', 'K'],\n",
       " 'solvus': ['°C', 'K'],\n",
       " 'density': ['g/cm3'],\n",
       " 'liquidus': ['°C', 'K']}"
      ]
     },
     "execution_count": 16,
     "metadata": {},
     "output_type": "execute_result"
    }
   ],
   "source": [
    "unit_replace"
   ]
  },
  {
   "cell_type": "code",
   "execution_count": 17,
   "metadata": {},
   "outputs": [],
   "source": [
    "sentence = \"Moreover , the computed γ′ solvus of TMW-4M3 and Alloy 720Li is 1194 and 1163°C .\""
   ]
  },
  {
   "cell_type": "code",
   "execution_count": 18,
   "metadata": {},
   "outputs": [
    {
     "data": {
      "text/plain": [
       "'Moreover , the computed γ′ solvus of TMW-4M3 and Alloy 720Li is 1194°C and 1163°C .'"
      ]
     },
     "execution_count": 18,
     "metadata": {},
     "output_type": "execute_result"
    }
   ],
   "source": [
    "para = no_unit_para[prop_name]\n",
    "word_list = nltk.word_tokenize(sentence)\n",
    "list_order = list(set(word_list))\n",
    "for word in list_order:\n",
    "    for pattern in para:\n",
    "        number = re.findall(pattern, word)\n",
    "        if unit_replace[prop_name]:\n",
    "            if unit_replace[prop_name][0] in sentence and number:\n",
    "                sent_c = sentence.replace(word, word + unit_replace[prop_name][0])\n",
    "                sentence = sentence.replace(sentence, sent_c)\n",
    "            if unit_replace[prop_name][0] not in sentence and number and len(unit_replace[prop_name])==2:\n",
    "                sent_c = sentence.replace(word, word + unit_replace[prop_name][-1])\n",
    "                sentence = sentence.replace(sentence, sent_c)\n",
    "sentence"
   ]
  },
  {
   "cell_type": "markdown",
   "metadata": {},
   "source": [
    "As you can see, the string \"1194\" in the sentence has been replaced with \"1194°C\". Since the subsequent named entity recognition is performed on the result of sentence tokenization, this preprocessing step can add important unit information to it."
   ]
  },
  {
   "cell_type": "markdown",
   "metadata": {},
   "source": [
    "## 2. Entity recognition rule for text"
   ]
  },
  {
   "cell_type": "markdown",
   "metadata": {},
   "source": [
    "### 2.1 alloy_writing_type"
   ]
  },
  {
   "cell_type": "markdown",
   "metadata": {},
   "source": [
    "The rule is used for recognizing alloy names in the sentence. Any word matched by any rule in alloy_writing_type will be viewed as an alloy name, and participate in the relation extraction part."
   ]
  },
  {
   "cell_type": "code",
   "execution_count": 19,
   "metadata": {},
   "outputs": [
    {
     "data": {
      "text/plain": [
       "['^[0-9]+\\\\.?[0-9]{0,2}[A-JL-Z]',\n",
       " '[0-9]{0,2}\\\\.?[0-9]{0,2}[A-Z][a-z]?\\\\-[0-9]{0,2}\\\\.?[0-9]{0,2}[A-Z][a-z]?',\n",
       " '^[A-Z]+[a-z]*\\\\-[0-9]\\\\w*',\n",
       " '^[A-Z]\\\\S+[0-9]$',\n",
       " '^[A-Z]+[0-9]+[A-z]+',\n",
       " '^[A-Z]+[a-z]*\\\\~[A-Z0-9]+']"
      ]
     },
     "execution_count": 19,
     "metadata": {},
     "output_type": "execute_result"
    }
   ],
   "source": [
    "from dictionary import Dictionary\n",
    "import nltk\n",
    "import re\n",
    "\n",
    "dict_info = Dictionary(\"dictionary.ini\")\n",
    "alloy_writing_type = dict_info.alloy_writing_type\n",
    "alloy_writing_type"
   ]
  },
  {
   "cell_type": "code",
   "execution_count": 20,
   "metadata": {},
   "outputs": [],
   "source": [
    "sentence = \"Out of these series of alloys, the alloy with a composition Co-30Ni-10Al-5Mo-2Ta-2Ti-5Cr has a solvus temperature of 1378K and a yield strength greater than 560 MPa at 1143K.\""
   ]
  },
  {
   "cell_type": "code",
   "execution_count": 21,
   "metadata": {},
   "outputs": [
    {
     "name": "stdout",
     "output_type": "stream",
     "text": [
      "[0-9]{0,2}\\.?[0-9]{0,2}[A-Z][a-z]?\\-[0-9]{0,2}\\.?[0-9]{0,2}[A-Z][a-z]?\n"
     ]
    },
    {
     "data": {
      "text/plain": [
       "['Co-30Ni-10Al-5Mo-2Ta-2Ti-5Cr']"
      ]
     },
     "execution_count": 21,
     "metadata": {},
     "output_type": "execute_result"
    }
   ],
   "source": [
    "word_list = nltk.word_tokenize(sentence)\n",
    "len_type = len(alloy_writing_type)\n",
    "alloy_name = list()\n",
    "for word in word_list:\n",
    "    for i in range(0, len_type):\n",
    "        check = re.findall(alloy_writing_type[i], word)\n",
    "        if check and word not in alloy_name:\n",
    "            print(alloy_writing_type[i])\n",
    "            alloy_name.append(word)\n",
    "alloy_name"
   ]
  },
  {
   "cell_type": "markdown",
   "metadata": {},
   "source": [
    "As you can see, the alloy name \"Co-30Ni-10Al-5Mo-2Ta-2Ti-5Cr\" can be recognized by our rule \"[0-9]{0,2}\\.?[0-9]{0,2}[A-Z][a-z]?\\-[0-9]{0,2}\\.?[0-9]{0,2}[A-Z][a-z]?\"."
   ]
  },
  {
   "cell_type": "markdown",
   "metadata": {},
   "source": [
    "## 2.2 alloy_blank_type"
   ]
  },
  {
   "cell_type": "markdown",
   "metadata": {},
   "source": [
    "The rule is used for recognizing the alloy name doesn't have special writing feature but special context keywords in a sentence. Any string in the sentence matched by any rule in alloy_blank_type will be viewed as alloy name and participates in the relation extraction part."
   ]
  },
  {
   "cell_type": "code",
   "execution_count": 22,
   "metadata": {},
   "outputs": [
    {
     "data": {
      "text/plain": [
       "['\\\\s([0-9A-Z]+\\\\w*)\\\\s+\\\\S*[Aa]lloy\\\\s',\n",
       " '\\\\s+\\\\S*[Aa]lloy\\\\s+([0-9A-Z]+\\\\w*)\\\\s']"
      ]
     },
     "execution_count": 22,
     "metadata": {},
     "output_type": "execute_result"
    }
   ],
   "source": [
    "from dictionary import Dictionary\n",
    "import nltk\n",
    "import re\n",
    "\n",
    "dict_info = Dictionary(\"dictionary.ini\")\n",
    "alloy_blank_type = dict_info.alloy_blank_type\n",
    "alloy_blank_type"
   ]
  },
  {
   "cell_type": "markdown",
   "metadata": {},
   "source": [
    "In the above rule, \"A/alloy\" is used as the feature context."
   ]
  },
  {
   "cell_type": "code",
   "execution_count": 23,
   "metadata": {},
   "outputs": [],
   "source": [
    "sentence = \"The mass density of the CVT alloy was measured as 8.86 g/cm3, and decreases to 8.71 g/cm3 and 8.67 g/cm3 through the addition of Ti and Al, respectively.\""
   ]
  },
  {
   "cell_type": "code",
   "execution_count": 24,
   "metadata": {},
   "outputs": [
    {
     "name": "stdout",
     "output_type": "stream",
     "text": [
      "\\s([0-9A-Z]+\\w*)\\s+\\S*[Aa]lloy\\s\n"
     ]
    },
    {
     "data": {
      "text/plain": [
       "['CVT']"
      ]
     },
     "execution_count": 24,
     "metadata": {},
     "output_type": "execute_result"
    }
   ],
   "source": [
    "alloy_name = list()\n",
    "for pattern in alloy_blank_type:\n",
    "    outcome = re.findall(pattern, sentence)\n",
    "    if outcome:\n",
    "        print(pattern)\n",
    "        for name in outcome:\n",
    "            alloy_name.append(name)\n",
    "alloy_name"
   ]
  },
  {
   "cell_type": "markdown",
   "metadata": {},
   "source": [
    "As you can see, the alloy name \"CVT\" can be recognized by our rule \"\\s([0-9A-Z]+\\w*)\\s+\\S*[Aa]lloy\\s\"."
   ]
  },
  {
   "cell_type": "markdown",
   "metadata": {},
   "source": [
    "## 2.3 prop_writing_type"
   ]
  },
  {
   "cell_type": "markdown",
   "metadata": {},
   "source": [
    "It is a dictionary that contains writing formats of the property name, and all writing formats are top-N words with the highest similarity in a Word2vec model. The dictionary is used for recognizing the propery name in sentences and replacing all property names with a uniform format."
   ]
  },
  {
   "cell_type": "code",
   "execution_count": 25,
   "metadata": {},
   "outputs": [
    {
     "data": {
      "text/plain": [
       "{'solidus': ['Tsolidus', 'Solidus', 'solidus'],\n",
       " 'solvus': ['γ′-solvus',\n",
       "  'γ′Solvus',\n",
       "  'solvus',\n",
       "  'Solvus',\n",
       "  'γ′-transus',\n",
       "  'Tγ′',\n",
       "  'solvus-temperature',\n",
       "  '-solvus'],\n",
       " 'density': ['density', 'Density', 'densities', 'densityρ', 'pO-'],\n",
       " 'liquidus': ['liquidus', 'Liquidus', 'Tlq', 'liquidous', 'liquidusus']}"
      ]
     },
     "execution_count": 25,
     "metadata": {},
     "output_type": "execute_result"
    }
   ],
   "source": [
    "from dictionary import Dictionary\n",
    "import nltk\n",
    "import re\n",
    "\n",
    "dict_info = Dictionary(\"dictionary.ini\")\n",
    "prop_writing_type = dict_info.prop_writing_type\n",
    "prop_writing_type"
   ]
  },
  {
   "cell_type": "code",
   "execution_count": 26,
   "metadata": {},
   "outputs": [],
   "source": [
    "sentence = \"The γ′-solvus in Inconel-713LC is reported to be 1205 °C which is comparable to the solidus ( 1260 °C ) of the alloy [ 4 ].\""
   ]
  },
  {
   "cell_type": "code",
   "execution_count": 27,
   "metadata": {},
   "outputs": [
    {
     "data": {
      "text/plain": [
       "'The solvus in Inconel-713LC is reported to be 1205 °C which is comparable to the solidus ( 1260 °C ) of the alloy [ 4 ].'"
      ]
     },
     "execution_count": 27,
     "metadata": {},
     "output_type": "execute_result"
    }
   ],
   "source": [
    "prop_name = 'solvus'\n",
    "for element in prop_writing_type[prop_name]:\n",
    "    sentence = sentence.replace(element, prop_name)\n",
    "sentence"
   ]
  },
  {
   "cell_type": "markdown",
   "metadata": {},
   "source": [
    "As you can see, the property name \"γ′-solvus\" is replaced with uniform \"solvus\"."
   ]
  },
  {
   "cell_type": "markdown",
   "metadata": {},
   "source": [
    "## 2.4 value_wt"
   ]
  },
  {
   "cell_type": "markdown",
   "metadata": {},
   "source": [
    "The rule is used for recognizing parameters and units in the sentence. Any word matched by any rule in value_wt will be viewed as a parameter with the unit, and participate in the relation extraction part."
   ]
  },
  {
   "cell_type": "code",
   "execution_count": 28,
   "metadata": {},
   "outputs": [
    {
     "data": {
      "text/plain": [
       "['^\\\\W{0,1}[7-9][0-9]{2}(\\\\.[0-9]{1,2})?\\\\S*°C$',\n",
       " '^\\\\W{0,1}[7-9][0-9]{2}(\\\\.[0-9]{1,2})?\\\\S*K$',\n",
       " '^\\\\W{0,1}1[0-6][0-9]{2}\\\\S*°C$',\n",
       " '^\\\\W{0,1}1[0-6][0-9]{2}\\\\S*K$']"
      ]
     },
     "execution_count": 28,
     "metadata": {},
     "output_type": "execute_result"
    }
   ],
   "source": [
    "from dictionary import Dictionary\n",
    "import nltk\n",
    "import re\n",
    "\n",
    "dict_info = Dictionary(\"dictionary.ini\")\n",
    "value_wt = dict_info.value_wt\n",
    "prop_name = \"solvus\"\n",
    "value_wt[prop_name]"
   ]
  },
  {
   "cell_type": "code",
   "execution_count": 29,
   "metadata": {},
   "outputs": [],
   "source": [
    "sentence = \"It is shown that the solvus temperature of the γ′ phase in the 0Mo alloy is near 1091°C ; however , the solvus temperature of the γ′ phase decreases with the addition of Mo : 1065°C for the 2Mo alloy and 1043°C for the 4Mo alloy .\""
   ]
  },
  {
   "cell_type": "code",
   "execution_count": 30,
   "metadata": {},
   "outputs": [
    {
     "data": {
      "text/plain": [
       "['1091°C', '1065°C', '1043°C']"
      ]
     },
     "execution_count": 30,
     "metadata": {},
     "output_type": "execute_result"
    }
   ],
   "source": [
    "parameter_list = []\n",
    "word_list = nltk.word_tokenize(sentence)\n",
    "for word in word_list:\n",
    "    for t in range(0, len(value_wt[prop_name])):\n",
    "        check = re.findall(value_wt[prop_name][t], word)\n",
    "        if check:\n",
    "            parameter_list.append(word)\n",
    "parameter_list"
   ]
  },
  {
   "cell_type": "markdown",
   "metadata": {},
   "source": [
    "As you can see, '1091°C', '1065°C', and  '1043°C' are recognized as parameters with the unit."
   ]
  },
  {
   "cell_type": "markdown",
   "metadata": {},
   "source": [
    "## 2.5 other_quality"
   ]
  },
  {
   "cell_type": "markdown",
   "metadata": {},
   "source": [
    "It is a dictionary containing some property names in addition to the target property name. These property name needs to have a similar range of number to the target property and may appear in the same sentence as the target property. This dictionary is compiled by the expert for the corresponding condition of the corpus."
   ]
  },
  {
   "cell_type": "code",
   "execution_count": 31,
   "metadata": {},
   "outputs": [
    {
     "data": {
      "text/plain": [
       "['γ′-solution',\n",
       " 'solution',\n",
       " 'solutioning',\n",
       " 'solidus',\n",
       " 'Tsolidus',\n",
       " 'Solidus',\n",
       " 'liquidus',\n",
       " 'Liquidus',\n",
       " 'Tlq',\n",
       " 'liquidous',\n",
       " 'liquidusus',\n",
       " 'incipient',\n",
       " 'age',\n",
       " 'aged',\n",
       " 'aging',\n",
       " 'solution-heat',\n",
       " 'ageing',\n",
       " 'homogenized',\n",
       " 'homogenization',\n",
       " 'heat-treated',\n",
       " 'super-solvus',\n",
       " 'sub-solvus',\n",
       " 'γ″',\n",
       " 'solidification',\n",
       " 'eutectic',\n",
       " 'solubility',\n",
       " 'annealing',\n",
       " 'annealed',\n",
       " 'anneal',\n",
       " 'deformed',\n",
       " 'melting',\n",
       " 'incipient-melting',\n",
       " 'supersolvus',\n",
       " 'heat',\n",
       " 'heated']"
      ]
     },
     "execution_count": 31,
     "metadata": {},
     "output_type": "execute_result"
    }
   ],
   "source": [
    "from dictionary import Dictionary\n",
    "import nltk\n",
    "import re\n",
    "\n",
    "dict_info = Dictionary(\"dictionary.ini\")\n",
    "other_quality = dict_info.other_quality\n",
    "prop_name = 'solvus'\n",
    "other_quality[prop_name]"
   ]
  },
  {
   "cell_type": "markdown",
   "metadata": {},
   "source": [
    "## 3. Preprocessing rule for table"
   ]
  },
  {
   "cell_type": "markdown",
   "metadata": {},
   "source": [
    "### 3.1 table_alloy_to_replace"
   ]
  },
  {
   "cell_type": "markdown",
   "metadata": {},
   "source": [
    "The format and usage of the rule are the same as alloy_to_replace (1.3). But the preprocessing object of the rule is the topic of the table. This preprocessing rule helps the recognition of alloy names in the topic."
   ]
  },
  {
   "cell_type": "markdown",
   "metadata": {},
   "source": [
    "### 3.2 ele_to_abr"
   ]
  },
  {
   "cell_type": "markdown",
   "metadata": {},
   "source": [
    "The rule is used for preprocessing the element name in the table and facilitating subsequent recognition of the element name in the table. The format and usage of the rule are the same as replace_word (1.2). But the preprocessing object of the rule is the table cell. This preprocessing rule helps the subsequent position of alloy element row in the table title. The following rules can be used as a reference."
   ]
  },
  {
   "cell_type": "code",
   "execution_count": 32,
   "metadata": {},
   "outputs": [
    {
     "data": {
      "text/plain": [
       "{'Chromium': 'Cr',\n",
       " 'Nickel': 'Ni',\n",
       " 'Molybdenum': 'Mo',\n",
       " 'Vanadium': 'V',\n",
       " 'Aluminum': 'Al',\n",
       " 'Titanium': 'Ti',\n",
       " 'Boron': 'B',\n",
       " 'Carbon': 'C',\n",
       " 'Iron': 'Fe',\n",
       " 'Manganese': 'Mg',\n",
       " 'Silicon': 'Si',\n",
       " 'Phosphorus': 'P',\n",
       " 'Sulfur': 'S',\n",
       " 'Tungsten': 'W',\n",
       " 'Germanium': 'Ge',\n",
       " 'Rhenium': 'Re',\n",
       " 'Niobium': 'Nb',\n",
       " 'Pickaxe': 'Zr',\n",
       " 'Hafnium': 'Hf',\n",
       " 'Ruthenium': 'Ru',\n",
       " 'Iridium': 'Ir',\n",
       " 'Yttrium': 'Y',\n",
       " 'Platinum': 'Pt'}"
      ]
     },
     "execution_count": 32,
     "metadata": {},
     "output_type": "execute_result"
    }
   ],
   "source": [
    "from dictionary import Dictionary\n",
    "import nltk\n",
    "import re\n",
    "\n",
    "dict_info = Dictionary(\"dictionary.ini\")\n",
    "ele_to_abr = dict_info.ele_to_abr\n",
    "ele_to_abr"
   ]
  },
  {
   "cell_type": "markdown",
   "metadata": {},
   "source": [
    "## 4. Entity recogniton rule for table"
   ]
  },
  {
   "cell_type": "markdown",
   "metadata": {},
   "source": [
    "### 4.1 table_prop_pattern"
   ]
  },
  {
   "cell_type": "markdown",
   "metadata": {},
   "source": [
    "The rule is used for recognizing the property name in the table. The format and usage of the rule are the same as prop_writing_type (2.3). But the object of this rule is the table cell. This recognizing rule helps to position the property name column in the table. The following rules can be used as a reference."
   ]
  },
  {
   "cell_type": "code",
   "execution_count": 33,
   "metadata": {},
   "outputs": [
    {
     "data": {
      "text/plain": [
       "{'solidus': ['Tsolidus', 'Solidus', 'solidus'],\n",
       " 'solvus': ['γ′-solvus',\n",
       "  'γ′Solvus',\n",
       "  'solvus',\n",
       "  'Solvus',\n",
       "  'γ′-transus',\n",
       "  'Tγ′',\n",
       "  'solvus-temperature',\n",
       "  '-solvus'],\n",
       " 'density': ['density', 'Density', 'densities', 'densityρ', 'pO-'],\n",
       " 'liquidus': ['liquidus', 'Liquidus', 'Tlq', 'liquidous', 'liquidusus']}"
      ]
     },
     "execution_count": 33,
     "metadata": {},
     "output_type": "execute_result"
    }
   ],
   "source": [
    "from dictionary import Dictionary\n",
    "import nltk\n",
    "import re\n",
    "\n",
    "dict_info = Dictionary(\"dictionary.ini\")\n",
    "table_prop_pattern = dict_info.table_prop_pattern\n",
    "table_prop_pattern"
   ]
  },
  {
   "cell_type": "markdown",
   "metadata": {},
   "source": [
    "### 4.2 table_ratio_pattern"
   ]
  },
  {
   "cell_type": "markdown",
   "metadata": {},
   "source": [
    "The rule is used for recognizing the unit of elements in the table. The format of the table_ratio_pattern rule can be represented as 'A|B|...', and the specific rule of A or B is made to match the unit of elements in different writing types. The following rules can be used as a reference."
   ]
  },
  {
   "cell_type": "code",
   "execution_count": 34,
   "metadata": {},
   "outputs": [
    {
     "data": {
      "text/plain": [
       "'[A-Za-z]+\\\\.?.?\\\\%|weight\\\\.?.?\\\\%|atom\\\\.?.?\\\\%|[Aa]t\\\\.?.?[Pp]ct|[Ww]t\\\\.?.?[Pp]ct|[Aa]tomic\\\\.?.?[Pp]ercent|[Ww]eight\\\\.?.?[Pp]ercent'"
      ]
     },
     "execution_count": 34,
     "metadata": {},
     "output_type": "execute_result"
    }
   ],
   "source": [
    "from dictionary import Dictionary\n",
    "import nltk\n",
    "import re\n",
    "\n",
    "dict_info = Dictionary(\"dictionary.ini\")\n",
    "table_ratio_pattern = dict_info.table_ratio_pattern\n",
    "table_ratio_pattern"
   ]
  },
  {
   "cell_type": "markdown",
   "metadata": {},
   "source": [
    "### 4.3 table_e_pattern"
   ]
  },
  {
   "cell_type": "markdown",
   "metadata": {},
   "source": [
    "The rule is used for recognizing the element name in table. The format of table_e_pattern rule is the same as table_ratio_pattern, and the specific rule of A or B is made according to the specific element your material contains. The following rules can be used as a reference."
   ]
  },
  {
   "cell_type": "code",
   "execution_count": 35,
   "metadata": {},
   "outputs": [
    {
     "data": {
      "text/plain": [
       "'^[A-Z][a-z]?$|[Cc]hromium|[Nn]ickel|[Mm]olybdenum|[Vv]anadium|[Aa]luminum|[Tt]itanium|[Bb]oron|[Cc]arbon|[Ii]ron|[Mm]anganese|[Ss]ilicon|[Pp]hosphorus|[Ss]ulfur|[Tt]ungsten|[Gg]ermanium|[Rr]henium|[Nn]iobium|[Ii]ron|[Pp]ickaxe|[Hh]afnium|[Rr]uthenium|[Ii]ridium|[Yy]ttrium|[Pp]hosphorus|[Ss]ulphur|[Pp]latinum'"
      ]
     },
     "execution_count": 35,
     "metadata": {},
     "output_type": "execute_result"
    }
   ],
   "source": [
    "from dictionary import Dictionary\n",
    "\n",
    "dict_info = Dictionary(\"dictionary.ini\")\n",
    "table_e_pattern = dict_info.table_e_pattern\n",
    "table_e_pattern"
   ]
  },
  {
   "cell_type": "markdown",
   "metadata": {},
   "source": [
    "### 4.4 ele_list"
   ]
  },
  {
   "cell_type": "markdown",
   "metadata": {},
   "source": [
    "The dictionary contains all abbreviations of alloy element, it is the set of all values in rule ele_to_abr (3.2)."
   ]
  },
  {
   "cell_type": "code",
   "execution_count": 36,
   "metadata": {},
   "outputs": [
    {
     "data": {
      "text/plain": [
       "['Co',\n",
       " 'Al',\n",
       " 'W',\n",
       " 'Ni',\n",
       " 'Ti',\n",
       " 'Cr',\n",
       " 'Ge',\n",
       " 'Ta',\n",
       " 'B',\n",
       " 'Mo',\n",
       " 'Re',\n",
       " 'Nb',\n",
       " 'Mn',\n",
       " 'Si',\n",
       " 'V',\n",
       " 'Fe',\n",
       " 'Zr',\n",
       " 'Hf',\n",
       " 'Ru',\n",
       " 'Ir',\n",
       " 'La',\n",
       " 'Y',\n",
       " 'Mg',\n",
       " 'C']"
      ]
     },
     "execution_count": 36,
     "metadata": {},
     "output_type": "execute_result"
    }
   ],
   "source": [
    "from dictionary import Dictionary\n",
    "\n",
    "dict_info = Dictionary(\"dictionary.ini\")\n",
    "ele_list = dict_info.ele_list\n",
    "ele_list"
   ]
  },
  {
   "cell_type": "markdown",
   "metadata": {},
   "source": [
    "### 4.5 unit_pattern_table"
   ]
  },
  {
   "cell_type": "markdown",
   "metadata": {},
   "source": [
    "The rule is used for recognizing the unit of property in table. The format of unit_pattern_table rule can be represented as {'prop_name':'A|B|..',..}. The A or B rule is made to match the unit of the corresponding property. The following rules can be used as a reference."
   ]
  },
  {
   "cell_type": "code",
   "execution_count": 37,
   "metadata": {},
   "outputs": [
    {
     "name": "stdout",
     "output_type": "stream",
     "text": [
      "{'solvus': '°C|degC|\\\\(K\\\\)', 'density': '[Kk]g\\\\/m3?|g\\\\/cm3?|gm\\\\/cm3?|g\\\\s+cm\\\\-?3?|kgm\\\\s+\\\\-?3?|[Kk]g\\\\s+m\\\\-?3?|[Kk]g\\\\*m\\\\-?3?|g\\\\*cm\\\\-?3?|gcm\\\\-?3?|J\\\\/mm3?|g\\\\/cc|A\\\\/dm2?|mA\\\\/cm2?|g\\\\/mL|mAcm\\\\-?2?|[Mm]g\\\\/m3?', 'solidus': '°C|degC|\\\\(K\\\\)', 'liquidus': '°C|degC|\\\\(K\\\\)'}\n"
     ]
    },
    {
     "data": {
      "text/plain": [
       "'°C|degC|\\\\(K\\\\)'"
      ]
     },
     "execution_count": 37,
     "metadata": {},
     "output_type": "execute_result"
    }
   ],
   "source": [
    "from dictionary import Dictionary\n",
    "\n",
    "dict_info = Dictionary(\"dictionary.ini\")\n",
    "unit_pattern_table = dict_info.unit_pattern_table\n",
    "prop_name = 'solvus'\n",
    "print(unit_pattern_table)\n",
    "unit_pattern_table[prop_name]"
   ]
  },
  {
   "cell_type": "markdown",
   "metadata": {},
   "source": [
    "### 4.6 table_number_pattern"
   ]
  },
  {
   "cell_type": "markdown",
   "metadata": {},
   "source": [
    "The rule is used for recognizing the parameter of property in the table. The format of unit_pattern_table rule is same as unit_pattern_table rule. The following rules can be used as a reference."
   ]
  },
  {
   "cell_type": "code",
   "execution_count": 38,
   "metadata": {},
   "outputs": [
    {
     "name": "stdout",
     "output_type": "stream",
     "text": [
      "{'solvus': '^\\\\D{0,1}[0-9]{3,4}', 'density': '^\\\\W{0,1}\\\\d+', 'solidus': '^\\\\D{0,1}[0-9]{3,4}', 'liquidus': '^\\\\D{0,1}[0-9]{3,4}'}\n"
     ]
    },
    {
     "data": {
      "text/plain": [
       "'^\\\\D{0,1}[0-9]{3,4}'"
      ]
     },
     "execution_count": 38,
     "metadata": {},
     "output_type": "execute_result"
    }
   ],
   "source": [
    "from dictionary import Dictionary\n",
    "\n",
    "dict_info = Dictionary(\"dictionary.ini\")\n",
    "table_number_pattern = dict_info.table_number_pattern\n",
    "prop_name = 'solvus'\n",
    "print(table_number_pattern)\n",
    "table_number_pattern[prop_name]"
   ]
  },
  {
   "cell_type": "markdown",
   "metadata": {},
   "source": [
    "### 4.7 table_prop_pattern_words"
   ]
  },
  {
   "cell_type": "markdown",
   "metadata": {},
   "source": [
    "The function and format of the rule are similar to table_prop_pattern. Differences between them are that under this rule when the table cell contains both string A, string B, and string C, the cell content will be used as the property name. Under the table_prop_pattern rule, as long as either string A, string B, or string C exists in the cell, the cell content is used as the property name. The rule is used for recognizing the parameter of property in the table. The format of unit_pattern_table rule is the same as unit_pattern_table rule. The following rules can be used as a reference."
   ]
  },
  {
   "cell_type": "code",
   "execution_count": 39,
   "metadata": {},
   "outputs": [
    {
     "name": "stdout",
     "output_type": "stream",
     "text": [
      "{'solvus': ['T', 'gamma', 'prime'], 'solidus': ['solidus'], 'liquidus': ['liquidus'], 'density': ['density']}\n"
     ]
    },
    {
     "data": {
      "text/plain": [
       "['T', 'gamma', 'prime']"
      ]
     },
     "execution_count": 39,
     "metadata": {},
     "output_type": "execute_result"
    }
   ],
   "source": [
    "from dictionary import Dictionary\n",
    "\n",
    "dict_info = Dictionary(\"dictionary.ini\")\n",
    "table_prop_pattern_words = dict_info.table_prop_pattern_words\n",
    "prop_name = 'solvus'\n",
    "print(table_prop_pattern_words)\n",
    "table_prop_pattern_words[prop_name]"
   ]
  },
  {
   "cell_type": "markdown",
   "metadata": {},
   "source": [
    "As we can see, only when a table cell contains both string 'T', string 'gamma', and string 'prime', the cell content will be viewed as the property name."
   ]
  },
  {
   "cell_type": "markdown",
   "metadata": {},
   "source": [
    "### 4.8 table_units"
   ]
  },
  {
   "cell_type": "markdown",
   "metadata": {},
   "source": [
    "The content of table_units is used for table parsing and is referred to \"Table extractor\" (https://github.com/olivettigroup/table_extractor)."
   ]
  },
  {
   "cell_type": "code",
   "execution_count": null,
   "metadata": {},
   "outputs": [],
   "source": []
  }
 ],
 "metadata": {
  "kernelspec": {
   "display_name": "Python 3",
   "language": "python",
   "name": "python3"
  },
  "language_info": {
   "codemirror_mode": {
    "name": "ipython",
    "version": 3
   },
   "file_extension": ".py",
   "mimetype": "text/x-python",
   "name": "python",
   "nbconvert_exporter": "python",
   "pygments_lexer": "ipython3",
   "version": "3.8.5"
  }
 },
 "nbformat": 4,
 "nbformat_minor": 4
}
